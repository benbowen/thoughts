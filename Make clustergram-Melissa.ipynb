{
 "cells": [
  {
   "cell_type": "code",
   "execution_count": 1,
   "metadata": {
    "collapsed": true
   },
   "outputs": [],
   "source": [
    "import pandas as pd\n",
    "from matplotlib import pyplot as plt\n",
    "import numpy as np\n",
    "%matplotlib inline"
   ]
  },
  {
   "cell_type": "code",
   "execution_count": 2,
   "metadata": {
    "collapsed": false
   },
   "outputs": [
    {
     "data": {
      "text/html": [
       "<div>\n",
       "<table border=\"1\" class=\"dataframe\">\n",
       "  <thead>\n",
       "    <tr style=\"text-align: right;\">\n",
       "      <th></th>\n",
       "      <th>Time</th>\n",
       "      <th>34:01:00</th>\n",
       "      <th>34:02:00</th>\n",
       "      <th>34:03:00</th>\n",
       "      <th>34:04:00</th>\n",
       "      <th>34:05:00</th>\n",
       "      <th>34:06:00</th>\n",
       "      <th>34:07:00</th>\n",
       "    </tr>\n",
       "  </thead>\n",
       "  <tbody>\n",
       "    <tr>\n",
       "      <th>0</th>\n",
       "      <td>0hr</td>\n",
       "      <td>9.023847e+07</td>\n",
       "      <td>6.487507e+07</td>\n",
       "      <td>256466400.0</td>\n",
       "      <td>1.247920e+07</td>\n",
       "      <td>183714888</td>\n",
       "      <td>1.493737e+08</td>\n",
       "      <td>5.060297e+06</td>\n",
       "    </tr>\n",
       "    <tr>\n",
       "      <th>1</th>\n",
       "      <td>12hr</td>\n",
       "      <td>1.050649e+08</td>\n",
       "      <td>1.000832e+08</td>\n",
       "      <td>274600944.0</td>\n",
       "      <td>2.093281e+07</td>\n",
       "      <td>220226004</td>\n",
       "      <td>1.740426e+08</td>\n",
       "      <td>6.043389e+06</td>\n",
       "    </tr>\n",
       "    <tr>\n",
       "      <th>2</th>\n",
       "      <td>24hr</td>\n",
       "      <td>1.098706e+08</td>\n",
       "      <td>1.226341e+08</td>\n",
       "      <td>312024192.0</td>\n",
       "      <td>2.363784e+07</td>\n",
       "      <td>201400556</td>\n",
       "      <td>3.033042e+08</td>\n",
       "      <td>1.070980e+07</td>\n",
       "    </tr>\n",
       "    <tr>\n",
       "      <th>3</th>\n",
       "      <td>48hr</td>\n",
       "      <td>6.020012e+07</td>\n",
       "      <td>5.371087e+07</td>\n",
       "      <td>187371986.7</td>\n",
       "      <td>6.923127e+06</td>\n",
       "      <td>55805894</td>\n",
       "      <td>8.318979e+07</td>\n",
       "      <td>8.998465e+05</td>\n",
       "    </tr>\n",
       "  </tbody>\n",
       "</table>\n",
       "</div>"
      ],
      "text/plain": [
       "   Time      34:01:00      34:02:00     34:03:00      34:04:00   34:05:00  \\\n",
       "0   0hr  9.023847e+07  6.487507e+07  256466400.0  1.247920e+07  183714888   \n",
       "1  12hr  1.050649e+08  1.000832e+08  274600944.0  2.093281e+07  220226004   \n",
       "2  24hr  1.098706e+08  1.226341e+08  312024192.0  2.363784e+07  201400556   \n",
       "3  48hr  6.020012e+07  5.371087e+07  187371986.7  6.923127e+06   55805894   \n",
       "\n",
       "       34:06:00      34:07:00  \n",
       "0  1.493737e+08  5.060297e+06  \n",
       "1  1.740426e+08  6.043389e+06  \n",
       "2  3.033042e+08  1.070980e+07  \n",
       "3  8.318979e+07  8.998465e+05  "
      ]
     },
     "execution_count": 2,
     "metadata": {},
     "output_type": "execute_result"
    }
   ],
   "source": [
    "df = pd.read_csv('/Users/bpb/Downloads/DGDG-BG-+glu+glu.csv', header =0)\n",
    "df\n"
   ]
  },
  {
   "cell_type": "code",
   "execution_count": 3,
   "metadata": {
    "collapsed": false
   },
   "outputs": [],
   "source": [
    "timepoints = df.Time.tolist()\n",
    "df.drop('Time',axis=1,inplace=True)\n",
    "lipids = [':'.join(L.split(':')[:2]) for L in df.keys()]"
   ]
  },
  {
   "cell_type": "code",
   "execution_count": 4,
   "metadata": {
    "collapsed": false
   },
   "outputs": [],
   "source": [
    "M = df.T.as_matrix()\n",
    "for i,row in enumerate(M):\n",
    "    row = row - row.min()\n",
    "    row = row / row.max()\n",
    "    M[i] = row\n"
   ]
  },
  {
   "cell_type": "code",
   "execution_count": 5,
   "metadata": {
    "collapsed": false
   },
   "outputs": [
    {
     "data": {
      "image/png": "[encoded data removed]",
      "text/plain": [
       "<matplotlib.figure.Figure at 0x10bcecac8>"
      ]
     },
     "metadata": {},
     "output_type": "display_data"
    }
   ],
   "source": [
    "plt.rcParams.update({'font.weight': 'bold'})\n",
    "plt.rcParams['lines.linewidth'] = 3\n",
    "\n",
    "def plot_clustergram_from_matrix(matrix,row_labels,col_labels,colormap):\n",
    "    fig = plt.figure(figsize=(10,10))\n",
    "    ax2 = plt.subplot(1,1,1)\n",
    "    \n",
    "    a = ax2.imshow(matrix,interpolation='nearest',cmap=colormap,origin='lower')#, extent=[0, 1, 0, 1])\n",
    "    ax2.set_aspect('auto')\n",
    "    ax2.set_yticks(range(len(row_labels)))\n",
    "    ax2.set_yticklabels(row_labels,fontsize=20)\n",
    "    ax2.set_xticks(range(len(col_labels)))\n",
    "    ax2.set_xticklabels(col_labels,rotation=90,fontsize=20)#,alignment='left')\n",
    "    cb = plt.colorbar(a)\n",
    "    cb.ax.yaxis.set_ticks_position('left')\n",
    "    cb.set_label('normalized intensity',fontsize=18,fontweight='bold')\n",
    "\n",
    "    plt.tight_layout()\n",
    "    plt.show()\n",
    "#     fig.savefig('y_cf_gc_avg.pdf')\n",
    "plot_clustergram_from_matrix(M,lipids,timepoints,'viridis')"
   ]
  },
  {
   "cell_type": "code",
   "execution_count": null,
   "metadata": {
    "collapsed": true
   },
   "outputs": [],
   "source": []
  }
 ],
 "metadata": {
  "anaconda-cloud": {},
  "kernelspec": {
   "display_name": "Python [default]",
   "language": "python",
   "name": "python3"
  },
  "language_info": {
   "codemirror_mode": {
    "name": "ipython",
    "version": 3
   },
   "file_extension": ".py",
   "mimetype": "text/x-python",
   "name": "python",
   "nbconvert_exporter": "python",
   "pygments_lexer": "ipython3",
   "version": "3.5.2"
  }
 },
 "nbformat": 4,
 "nbformat_minor": 0
}
