{
 "cells": [
  {
   "cell_type": "markdown",
   "metadata": {},
   "source": [
    "#Gödel Numbering\n",
    "\n",
    "With <a href = https://en.wikipedia.org/wiki/G%C3%B6del_numbering> Godel Numbering</a> you can create a number that uniquely represents a series of numbers.  From this \"big number\" you can recover the original series of numbers from its prime factors.\n",
    "\n",
    "See two examples below where both a string and a series of numbers are encoded into a \"big number\".  Next, these big numbers are decoded by finding the first n prime-factors where n is the length of the sequence.\n",
    "\n",
    "The SymPy package is used to do the Math.  There are tons of great instructional web-pages that explain variations on the algorithms at use under-the-hood.\n"
   ]
  },
  {
   "cell_type": "code",
   "execution_count": 12,
   "metadata": {
    "collapsed": false
   },
   "outputs": [],
   "source": [
    "class Godel:\n",
    "    def __init__(self,convert_type = 'string'):\n",
    "        #instatiate the class with either string tools or lists of number tools\n",
    "        # use \"string\" for words and anything else will make it work on lists of numbers\n",
    "        self.convert_type = convert_type\n",
    "        \n",
    "    def encode(self,to_encode):\n",
    "        import sympy as sympy\n",
    "        import math\n",
    "        n = 1\n",
    "        for i,s in enumerate(to_encode):\n",
    "            if self.convert_type == 'string':\n",
    "                n*=sympy.prime(i+1)**ord(s)\n",
    "            else:\n",
    "                n*=sympy.prime(i+1)**s\n",
    "        encoding = {}\n",
    "        encoding['val'] = n\n",
    "        encoding['num_digits'] = int(math.log10(n))+1\n",
    "        return encoding\n",
    "    \n",
    "    def decode(self,big_num):\n",
    "        import sympy as sympy\n",
    "        f = sympy.ntheory.factor_.factorint(big_num)\n",
    "        if self.convert_type == 'string':\n",
    "            my_decode = \"\".join([chr(f[k]) for k in sorted(f.iterkeys())])\n",
    "        else:\n",
    "            my_decode = [f[k] for k in sorted(f.iterkeys())]\n",
    "        decoding = {}\n",
    "        decoding['val'] = my_decode\n",
    "        decoding['prime factors'] = f\n",
    "        s = []\n",
    "        for k in sorted(decoding['prime factors'].iterkeys()):\n",
    "            s.append('%d^%d'%(k,decoding['prime factors'][k]))\n",
    "        decoding['expression'] = ' * '.join(s)\n",
    "        return decoding"
   ]
  },
  {
   "cell_type": "code",
   "execution_count": 13,
   "metadata": {
    "collapsed": false
   },
   "outputs": [
    {
     "name": "stdout",
     "output_type": "stream",
     "text": [
      "1547\n",
      "51329028789623362243111522597116306719738236621037306141433664307325814377106092200730600703119304270226188885316320942277055052514929282254007769227655045353161123638943554336046225588188894272412233266337025757962472463997344749810205965592601080768840365469580898488681480605786394422305316314867874172528419328533730592868020386564031386054229609315928929548430018756627963643657575848835614964940658996886434182371812548159568867299038134835227216626662647544777075985595795436437081924198672600169572808114309551379099801061842701831356598632806333661608004227478261173466565496448322157959764978590598376578729986601861914124352486026322325959491124279650193510294573760780728905974589353035041374538713685516373888944236854219300228356746339711997915081645246788950908628078086418113213985759939912758110818827668711532301237121175322366726407078738302151955348038284578433616463173867902347234099718410025851454201973776512919544983932076716919898920194355949018786702766898956945083249112875132544195272377689679836239104200156990525739070595521806844435820682026477093600812337332813854064350113873206743533437331963353456620535842403065318341906247016946004416213384020634383020382234969592421199434560101452160786270201994108950802527050196188547432000749222966313217826949843053649160051598057792305929627702947453891073331301391576976817989711601679275710457541634075447011125146342169760283798331281452329089098185069667968750000000000000000000000000000000000000000000000000000000000000000000000000000000000000000000000000000000000\n"
     ]
    }
   ],
   "source": [
    "g_tool_strings = Godel(convert_type = 'string')\n",
    "string_big_num = g_tool_strings.encode('just a message')\n",
    "print string_big_num['num_digits']\n",
    "print string_big_num['val']"
   ]
  },
  {
   "cell_type": "code",
   "execution_count": 14,
   "metadata": {
    "collapsed": false
   },
   "outputs": [
    {
     "name": "stdout",
     "output_type": "stream",
     "text": [
      "just a message\n",
      "2^106 * 3^117 * 5^115 * 7^116 * 11^32 * 13^97 * 17^32 * 19^109 * 23^101 * 29^115 * 31^115 * 37^97 * 41^103 * 43^101\n"
     ]
    }
   ],
   "source": [
    "decoding = g_tool_strings.decode(string_big_num['val'])\n",
    "print decoding['val']\n",
    "print decoding['expression']"
   ]
  },
  {
   "cell_type": "code",
   "execution_count": 15,
   "metadata": {
    "collapsed": false
   },
   "outputs": [
    {
     "name": "stdout",
     "output_type": "stream",
     "text": [
      "3436565467815389299814058373939200\n"
     ]
    }
   ],
   "source": [
    "g_tool_numbers = Godel(convert_type = 'numbers')\n",
    "big_num = g_tool_numbers.encode([21,1,2,3,4,3,1,11])\n",
    "print big_num['val']"
   ]
  },
  {
   "cell_type": "code",
   "execution_count": 16,
   "metadata": {
    "collapsed": false
   },
   "outputs": [
    {
     "name": "stdout",
     "output_type": "stream",
     "text": [
      "[21, 1, 2, 3, 4, 3, 1, 11]\n",
      "2^21 * 3^1 * 5^2 * 7^3 * 11^4 * 13^3 * 17^1 * 19^11\n"
     ]
    }
   ],
   "source": [
    "decoding = g_tool_numbers.decode(big_num['val'])\n",
    "print decoding['val']\n",
    "print decoding['expression']"
   ]
  },
  {
   "cell_type": "markdown",
   "metadata": {},
   "source": [
    "#Combining the big numbers"
   ]
  },
  {
   "cell_type": "code",
   "execution_count": 17,
   "metadata": {
    "collapsed": false
   },
   "outputs": [
    {
     "name": "stdout",
     "output_type": "stream",
     "text": [
      "[23, 1, 4, 3, 4, 3, 1, 11]\n",
      "2^23 * 3^1 * 5^4 * 7^3 * 11^4 * 13^3 * 17^1 * 19^11\n"
     ]
    }
   ],
   "source": [
    "decoding = g_tool_numbers.decode(100*big_num['val'])\n",
    "print decoding['val']\n",
    "print decoding['expression']"
   ]
  },
  {
   "cell_type": "code",
   "execution_count": 18,
   "metadata": {
    "collapsed": false
   },
   "outputs": [
    {
     "name": "stdout",
     "output_type": "stream",
     "text": [
      "[2, 2]\n",
      "2^2 * 5^2\n"
     ]
    }
   ],
   "source": [
    "decoding = g_tool_numbers.decode(100)\n",
    "print decoding['val']\n",
    "print decoding['expression']"
   ]
  },
  {
   "cell_type": "code",
   "execution_count": null,
   "metadata": {
    "collapsed": true
   },
   "outputs": [],
   "source": []
  },
  {
   "cell_type": "code",
   "execution_count": null,
   "metadata": {
    "collapsed": true
   },
   "outputs": [],
   "source": []
  }
 ],
 "metadata": {
  "kernelspec": {
   "display_name": "Python 2",
   "language": "python",
   "name": "python2"
  },
  "language_info": {
   "codemirror_mode": {
    "name": "ipython",
    "version": 2
   },
   "file_extension": ".py",
   "mimetype": "text/x-python",
   "name": "python",
   "nbconvert_exporter": "python",
   "pygments_lexer": "ipython2",
   "version": "2.7.11"
  }
 },
 "nbformat": 4,
 "nbformat_minor": 0
}
