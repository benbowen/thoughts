{
 "cells": [
  {
   "cell_type": "code",
   "execution_count": null,
   "id": "3d2c7991-44d9-4b3c-a806-b1a09ba7770a",
   "metadata": {},
   "outputs": [],
   "source": [
    "import os\n",
    "import pandas as pd\n",
    "import numpy as np\n",
    "import matplotlib.pyplot as plt\n",
    "import seaborn as sns\n",
    "from sklearn.manifold import TSNE\n",
    "\n",
    "#want to save pdf fonts? then do this:\n",
    "import matplotlib\n",
    "matplotlib.rcParams['pdf.fonttype'] = 42\n",
    "matplotlib.rcParams['ps.fonttype'] = 42\n"
   ]
  },
  {
   "cell_type": "code",
   "execution_count": null,
   "id": "0b59a15f-4545-4ce3-8d10-e00dd8915474",
   "metadata": {},
   "outputs": [],
   "source": [
    "ph_dir = '/global/cfs/cdirs/metatlas/projects/untargeted_tasks/20211117_JGI-AK-TH_AP_507288_EColiHSLs_final_QE-139_C18_USDAY63649_REUPLOAD_positive/'\n",
    "ph_file = os.path.join(ph_dir,'20211117_JGI-AK-TH_AP_507288_EColiHSLs_final_QE-139_C18_USDAY63649_REUPLOAD_positive_peak-height.csv')\n",
    "md_file = os.path.join(ph_dir,'20211117_JGI-AK-TH_AP_507288_EColiHSLs_final_QE-139_C18_USDAY63649_REUPLOAD_positive_metadata.tab')"
   ]
  },
  {
   "cell_type": "code",
   "execution_count": null,
   "id": "126a3038-e304-42ed-8214-4af0842f3e8c",
   "metadata": {},
   "outputs": [],
   "source": [
    "msql_features = pd.read_csv('MSQL-NF-f012b88e-extract_results-main.tsv',sep='\\t')\n",
    "msql_features = msql_features['scan'].tolist()\n",
    "# msql_features"
   ]
  },
  {
   "cell_type": "code",
   "execution_count": null,
   "id": "93c6ce05-480e-4ef0-92c9-97d2e1ea2bcd",
   "metadata": {},
   "outputs": [],
   "source": [
    "\n",
    "def melt_dataframe(ph,md):\n",
    "#     df.drop(columns=['filename','sample'],inplace=True)\n",
    "    # df.fillna(0.0,inplace=True)\n",
    "    feature_cols = ['feature_id','mz','rt']\n",
    "    var_cols = [c for c in ph.columns if c.endswith('mzML')]\n",
    "    df = ph.melt(id_vars=feature_cols,value_vars=var_cols)#,var_name='value')\n",
    "    # df = df[~pd.isna(df['value'])]\n",
    "    df['value'].fillna(0.0,inplace=True)\n",
    "    df['value'] = df['value'].astype(float)\n",
    "    df = pd.merge(df,md,left_on='variable',right_on='filename')\n",
    "    df.drop(columns=['variable','filename'],inplace=True)\n",
    "    df.reset_index(inplace=True,drop=True)\n",
    "    return df\n",
    "\n",
    "def calc_background(df,background='exctrl',background_ratio=3.0):\n",
    "    exctrl = df[df['sampletype'].str.contains(background.lower())].groupby(['feature_id','sampletype'])['value'].max().reset_index()\n",
    "    sample = df[~df['sampletype'].str.contains(background.lower())].groupby(['feature_id','sampletype'])['value'].max().reset_index()\n",
    "    ratio_df = pd.merge(exctrl.add_suffix('_exctrl'),sample.add_suffix('_sample'),left_on='feature_id_exctrl',right_on='feature_id_sample')\n",
    "    ratio_df['ratio'] = ratio_df['value_sample']/(1+ratio_df['value_exctrl'])\n",
    "    good_features = ratio_df.loc[ratio_df['ratio']>background_ratio,'feature_id_sample'].unique()\n",
    "    all_features = ratio_df['feature_id_sample'].unique()\n",
    "    bad_features = list(set(all_features) - set(good_features))\n",
    "    rm_count = len(all_features) - len(good_features)\n",
    "    print('Please remove %d features out of %d'%(rm_count,len(all_features)))\n",
    "    return good_features,bad_features\n",
    "\n",
    "\n",
    "ph = pd.read_csv(ph_file)\n",
    "cols = ph.columns\n",
    "cols = [c.replace(' Peak height','') for c in cols]\n",
    "ph.columns = cols\n",
    "colsl = [c for c in cols if not 'Unnamed:' in c]\n",
    "ph = ph[cols]\n",
    "rename_cols = {'row ID':'feature_id','row m/z':'mz','row retention time':'rt'}\n",
    "ph.rename(columns=rename_cols,inplace=True)\n",
    "\n",
    "print(ph.shape)\n",
    "ph = ph[ph['feature_id'].isin(msql_features)]\n",
    "print(ph.shape)\n",
    "\n",
    "md = pd.read_csv(md_file,sep='\\t')\n",
    "md.rename(columns={'ATTRIBUTE_sampletype':'sampletype'},inplace=True)\n",
    "md.fillna('',inplace=True)\n",
    "md['sampletype'] = md['sampletype'].astype(str)\n",
    "md['sampletype'] = md['sampletype'].apply(lambda x: x.lower())\n",
    "if any([e for e in  md['sampletype'].tolist() if 'exctrl' in e]):\n",
    "    print(row['parent_dir'])\n",
    "    md['filename'] = md['filename'].apply(lambda x: os.path.basename(x))\n",
    "\n",
    "df = melt_dataframe(ph,md)\n",
    "df = df[df['sampletype']!='qc']\n",
    "good_features,bad_features = calc_background(df,background='media-control')\n",
    "df = df[df['sampletype']!='media-control']\n",
    "df = df[df['feature_id'].isin(good_features)]\n"
   ]
  },
  {
   "cell_type": "code",
   "execution_count": null,
   "id": "8fffdba2-12d3-454a-a348-c04f99339e71",
   "metadata": {},
   "outputs": [],
   "source": [
    "group_cols = ['feature_id', 'mz', 'rt', 'sampletype']\n",
    "avg_df = df.groupby(group_cols).mean().reset_index(drop=False)\n",
    "avg_df"
   ]
  },
  {
   "cell_type": "code",
   "execution_count": null,
   "id": "d7cf4ac9-08c8-4041-805a-54682a9f021e",
   "metadata": {},
   "outputs": [],
   "source": [
    "p = pd.pivot(data=avg_df,index='feature_id',columns='sampletype',values='value')\n",
    "m = p.values\n",
    "m = m[:]\n",
    "min_nonzero = m[m>0].min()\n",
    "p[p<min_nonzero] = 2*min_nonzero/3"
   ]
  },
  {
   "cell_type": "code",
   "execution_count": null,
   "id": "22baa212-fe68-498d-8372-64cf0a0a524d",
   "metadata": {},
   "outputs": [],
   "source": [
    "g = sns.clustermap(p.T.apply(np.log10),cmap='plasma',figsize=(29,30),metric='correlation')#,vmin=-5,vmax=5,center=0,figsize=(6,13))"
   ]
  },
  {
   "cell_type": "code",
   "execution_count": null,
   "id": "918d5346-f161-4a4a-940b-2967eec3ea75",
   "metadata": {},
   "outputs": [],
   "source": [
    "g.savefig('features_sample_bicluster.pdf')"
   ]
  },
  {
   "cell_type": "code",
   "execution_count": null,
   "id": "61533e21-4553-4669-9268-98a36faec0da",
   "metadata": {},
   "outputs": [],
   "source": [
    "from scipy.cluster import hierarchy\n",
    "from scipy.spatial.distance import pdist,squareform"
   ]
  },
  {
   "cell_type": "code",
   "execution_count": null,
   "id": "ad78ec86-b2f1-4d66-bf93-b2ed3d2be02b",
   "metadata": {},
   "outputs": [],
   "source": [
    "d = pdist(p.T.values,metric='correlation')\n",
    "d = squareform(d)\n",
    "d.shape"
   ]
  },
  {
   "cell_type": "code",
   "execution_count": null,
   "id": "f267ca33-fcd3-49e4-92ff-e97a54f7bd01",
   "metadata": {},
   "outputs": [],
   "source": [
    "z = hierarchy.linkage(d,method='single')\n",
    "\n",
    "fig,ax = plt.subplots(figsize=(6,20))\n",
    "\n",
    "dn = hierarchy.dendrogram(z, ax=ax,\n",
    "                           above_threshold_color='#bcbddc',\n",
    "                           orientation='right',\n",
    "                         labels=p.columns)\n",
    "fig.savefig('dendrogram.pdf')"
   ]
  },
  {
   "cell_type": "markdown",
   "id": "b9b38315-8c5a-4072-87c5-077553703e12",
   "metadata": {},
   "source": [
    "# Do this to make tree in itol format"
   ]
  },
  {
   "cell_type": "code",
   "execution_count": null,
   "id": "b87fdc34-9323-4cb3-9b91-ba9b3189c7f9",
   "metadata": {},
   "outputs": [],
   "source": [
    "import skbio\n",
    "tree = skbio.TreeNode.from_linkage_matrix(z, p.columns)\n",
    "\n",
    "tree.write('tree.newick',format='newick')"
   ]
  },
  {
   "cell_type": "code",
   "execution_count": null,
   "id": "9e99b3d1-e0e4-4f6c-b6b0-dec5a33f2e12",
   "metadata": {},
   "outputs": [],
   "source": [
    "# time_start = time.time()\n",
    "tsne = TSNE(n_components=2, verbose=1, perplexity=40, n_iter=3000)\n",
    "results = tsne.fit_transform(p.T.values)\n",
    "# print('t-SNE done! Time elapsed: {} seconds'.format(time.time()-time_start))\n",
    "\n",
    "# If you want PCA, this is how to do that\n",
    "# pca = PCA(n_components=2)\n",
    "# results = pca.fit_transform(p.values)\n",
    "# print('Explained variation per principal component: {}'.format(pca.explained_variance_ratio_))\n",
    "\n",
    "fig,ax = plt.subplots(figsize=(15,15))\n",
    "sns.scatterplot(x=results[:,0],y=results[:,1],\n",
    "                hue=p.columns,s=150)\n",
    "#                 palette=color_palette,s=150,ax=ax,legend=False, linewidth=0.5,edgecolor='grey',markers=marker_dict,style=bgc_df.index.get_level_values('bgc') \n",
    "#                )\n",
    "ax.set_axis_off()\n",
    "plt.show()\n",
    "fig.savefig('tsne.pdf')"
   ]
  },
  {
   "cell_type": "code",
   "execution_count": null,
   "id": "5a1d0fb0-bcbb-4d11-a4d8-644b4e6dff4d",
   "metadata": {},
   "outputs": [],
   "source": []
  }
 ],
 "metadata": {
  "kernelspec": {
   "display_name": "matchms",
   "language": "python",
   "name": "matchms"
  },
  "language_info": {
   "codemirror_mode": {
    "name": "ipython",
    "version": 3
   },
   "file_extension": ".py",
   "mimetype": "text/x-python",
   "name": "python",
   "nbconvert_exporter": "python",
   "pygments_lexer": "ipython3",
   "version": "3.8.8"
  }
 },
 "nbformat": 4,
 "nbformat_minor": 5
}
