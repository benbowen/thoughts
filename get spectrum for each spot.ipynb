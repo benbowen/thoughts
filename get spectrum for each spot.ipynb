{
 "cells": [
  {
   "cell_type": "markdown",
   "metadata": {},
   "source": [
    "# This is a prototype notebook.  Use at your own risk"
   ]
  },
  {
   "cell_type": "code",
   "execution_count": 1,
   "metadata": {
    "collapsed": false
   },
   "outputs": [
    {
     "name": "stdout",
     "output_type": "stream",
     "text": [
      "Completed loading OpenMSI Arrayed Analysis Toolkit\n"
     ]
    }
   ],
   "source": [
    "%run ../OpenMSI_Arrayed_Analysis_Tools/Arrayed_Analysis_Tools_python_2_or_3.ipy"
   ]
  },
  {
   "cell_type": "code",
   "execution_count": 2,
   "metadata": {
    "collapsed": false
   },
   "outputs": [
    {
     "name": "stdout",
     "output_type": "stream",
     "text": [
      "ArrayedImage based on /project/projectdirs/openmsi/omsi_data_private/bpb/20120913_nimzyme.h5\n",
      "Ions loaded: [1241.2, 917.45, 817.6]\n",
      "# of spot locations defined: 384\n",
      "# of spot pixel masks defined: None\n"
     ]
    }
   ],
   "source": [
    "#Optional: Load an ArrayedImage from a pickle file. This way you can work off-line\n",
    "filename=\"../OpenMSI_Arrayed_Analysis_Tools/demo_spot_save.pkl\"\n",
    "import pickle\n",
    "img=pickle.load(open(filename,\"rb\"))\n",
    "print(img)"
   ]
  },
  {
   "cell_type": "code",
   "execution_count": 3,
   "metadata": {
    "collapsed": false
   },
   "outputs": [
    {
     "name": "stdout",
     "output_type": "stream",
     "text": [
      "384 spots generated. number of spots with N pixels:{10: 8, 11: 105, 12: 106, 13: 122, 14: 43}\n"
     ]
    }
   ],
   "source": [
    "coords  = img.generateSpotList()[0]\n"
   ]
  },
  {
   "cell_type": "code",
   "execution_count": 6,
   "metadata": {
    "collapsed": false
   },
   "outputs": [
    {
     "name": "stdout",
     "output_type": "stream",
     "text": [
      "········\n"
     ]
    }
   ],
   "source": [
    "import requests\n",
    "client = requests.Session()\n",
    "import getpass\n",
    "def authenticate_user(client,username):\n",
    "    password = getpass.getpass()\n",
    "    authURL = 'https://openmsi.nersc.gov/openmsi/client/login/'\n",
    "    # Retrieve the CSRF token first\n",
    "    client.get(authURL)  # sets cookie\n",
    "    csrftoken = client.cookies['csrftoken']\n",
    "    login_data = dict(username=username, password=password, csrfmiddlewaretoken=csrftoken, next='/')\n",
    "    r = client.post(authURL, data=login_data, headers=dict(Referer=authURL))\n",
    "    return client\n",
    "client = authenticate_user(client,'bpb') # put your username here in the quotes\n"
   ]
  },
  {
   "cell_type": "code",
   "execution_count": 7,
   "metadata": {
    "collapsed": false
   },
   "outputs": [],
   "source": [
    "payload = {'file':img.filename,\n",
    "          'expIndex':img.expIndex,'dataIndex':img.dataIndex,'qspectrum_viewerOption':'0',\n",
    "          'qslice_viewerOption':'0',\n",
    "          'col':0,'row':0,\n",
    "          'findPeak':'0','format':'JSON'}\n",
    "url = 'https://openmsi.nersc.gov/openmsi/qmz'\n",
    "r = client.get(url,params=payload)\n",
    "data = json.loads(r.text)\n",
    "mz = np.asarray(data[u'values_spectra'])"
   ]
  },
  {
   "cell_type": "code",
   "execution_count": null,
   "metadata": {
    "collapsed": false
   },
   "outputs": [],
   "source": [
    "len(mz)"
   ]
  },
  {
   "cell_type": "code",
   "execution_count": 8,
   "metadata": {
    "collapsed": true
   },
   "outputs": [],
   "source": [
    "payload = {'file':img.filename,\n",
    "              'expIndex':img.expIndex,'dataIndex':img.dataIndex,'qspectrum_viewerOption':'0',\n",
    "              'qslice_viewerOption':'0',\n",
    "              'col':'[0,1,2]','row':'[0,1,2]',\n",
    "              'findPeak':'0','format':'JSON'}\n",
    "url = 'https://openmsi.nersc.gov/openmsi/qspectrum'\n",
    "r = client.get(url,params=payload)\n",
    "data = json.loads(r.text)\n",
    "intensity = data[u'spectrum']"
   ]
  },
  {
   "cell_type": "code",
   "execution_count": 10,
   "metadata": {
    "collapsed": false
   },
   "outputs": [
    {
     "data": {
      "text/plain": [
       "3"
      ]
     },
     "execution_count": 10,
     "metadata": {},
     "output_type": "execute_result"
    }
   ],
   "source": [
    "len(intensity)"
   ]
  },
  {
   "cell_type": "code",
   "execution_count": 9,
   "metadata": {
    "collapsed": false
   },
   "outputs": [
    {
     "data": {
      "text/plain": [
       "37805"
      ]
     },
     "execution_count": 9,
     "metadata": {},
     "output_type": "execute_result"
    }
   ],
   "source": [
    "len(intensity[0])"
   ]
  },
  {
   "cell_type": "code",
   "execution_count": 12,
   "metadata": {
    "collapsed": false
   },
   "outputs": [
    {
     "name": "stdout",
     "output_type": "stream",
     "text": [
      "384 spots generated. number of spots with N pixels:{10: 8, 11: 105, 12: 106, 13: 122, 14: 43}\n"
     ]
    },
    {
     "data": {
      "text/plain": [
       "array([[ 9,  7],\n",
       "       [ 9,  8],\n",
       "       [ 9,  9],\n",
       "       [10,  7],\n",
       "       [10,  8],\n",
       "       [10,  9],\n",
       "       [10, 10],\n",
       "       [11,  7],\n",
       "       [11,  8],\n",
       "       [11,  9],\n",
       "       [11, 10],\n",
       "       [12,  8]])"
      ]
     },
     "execution_count": 12,
     "metadata": {},
     "output_type": "execute_result"
    }
   ],
   "source": [
    "img.generateSpotList()[0]"
   ]
  },
  {
   "cell_type": "code",
   "execution_count": 22,
   "metadata": {
    "collapsed": false,
    "scrolled": false
   },
   "outputs": [
    {
     "name": "stdout",
     "output_type": "stream",
     "text": [
      "384 spots generated. number of spots with N pixels:{10: 8, 11: 105, 12: 106, 13: 122, 14: 43}\n",
      "0\n",
      "1\n",
      "2\n",
      "3\n",
      "4\n",
      "5\n",
      "6\n",
      "7\n",
      "8\n",
      "9\n"
     ]
    }
   ],
   "source": [
    "payload = {'file':img.filename,\n",
    "              'expIndex':img.expIndex,'dataIndex':img.dataIndex,'qspectrum_viewerOption':'0',\n",
    "              'qslice_viewerOption':'0',\n",
    "              'findPeak':'0','format':'JSON'}\n",
    "url = 'https://openmsi.nersc.gov/openmsi/qspectrum'\n",
    "spectra_list = []\n",
    "spotLocations = img.spotLocations\n",
    "df = {}\n",
    "df['coords'] = []\n",
    "df['spectra'] = []\n",
    "for i,coord in enumerate(img.generateSpotList()[:10]):\n",
    "    print(i)\n",
    "    payload['col'] = '[' + ','.join([str(c[1]) for c in coord]) + ']'\n",
    "    payload['row'] = '[' + ','.join([str(c[0]) for c in coord]) + ']'\n",
    "    r = client.get(url,params=payload)\n",
    "    data = json.loads(r.text)\n",
    "    df['coords'].append(coords)\n",
    "    df['spectra'].append(data)\n",
    "        "
   ]
  },
  {
   "cell_type": "code",
   "execution_count": 20,
   "metadata": {
    "collapsed": false
   },
   "outputs": [
    {
     "ename": "TypeError",
     "evalue": "sequence item 0: expected str instance, numpy.int64 found",
     "output_type": "error",
     "traceback": [
      "\u001b[0;31m---------------------------------------------------------------------------\u001b[0m",
      "\u001b[0;31mTypeError\u001b[0m                                 Traceback (most recent call last)",
      "\u001b[0;32m<ipython-input-20-919dd8f91636>\u001b[0m in \u001b[0;36m<module>\u001b[0;34m()\u001b[0m\n\u001b[1;32m      1\u001b[0m \u001b[0;31m# ','.join(\u001b[0m\u001b[0;34m\u001b[0m\u001b[0;34m\u001b[0m\u001b[0m\n\u001b[0;32m----> 2\u001b[0;31m \u001b[0;34m','\u001b[0m\u001b[0;34m.\u001b[0m\u001b[0mjoin\u001b[0m\u001b[0;34m(\u001b[0m\u001b[0;34m[\u001b[0m\u001b[0mc\u001b[0m\u001b[0;34m[\u001b[0m\u001b[0;36m1\u001b[0m\u001b[0;34m]\u001b[0m \u001b[0;32mfor\u001b[0m \u001b[0mc\u001b[0m \u001b[0;32min\u001b[0m \u001b[0mcoord\u001b[0m\u001b[0;34m]\u001b[0m\u001b[0;34m)\u001b[0m\u001b[0;34m\u001b[0m\u001b[0m\n\u001b[0m",
      "\u001b[0;31mTypeError\u001b[0m: sequence item 0: expected str instance, numpy.int64 found"
     ]
    }
   ],
   "source": [
    "# ','.join(\n",
    "','.join([c[1] for c in coord])\n"
   ]
  },
  {
   "cell_type": "code",
   "execution_count": null,
   "metadata": {
    "collapsed": false,
    "scrolled": false
   },
   "outputs": [],
   "source": [
    "len(spectra_list[0])"
   ]
  },
  {
   "cell_type": "code",
   "execution_count": null,
   "metadata": {
    "collapsed": false
   },
   "outputs": [],
   "source": [
    "len(spectra_list)"
   ]
  },
  {
   "cell_type": "code",
   "execution_count": null,
   "metadata": {
    "collapsed": false
   },
   "outputs": [],
   "source": [
    "[c[1] for c in coord]"
   ]
  },
  {
   "cell_type": "code",
   "execution_count": null,
   "metadata": {
    "collapsed": false
   },
   "outputs": [],
   "source": [
    "[c[0] for c in coord]"
   ]
  },
  {
   "cell_type": "code",
   "execution_count": null,
   "metadata": {
    "collapsed": true
   },
   "outputs": [],
   "source": []
  }
 ],
 "metadata": {
  "kernelspec": {
   "display_name": "Python 3",
   "language": "python",
   "name": "python3"
  },
  "language_info": {
   "codemirror_mode": {
    "name": "ipython",
    "version": 3
   },
   "file_extension": ".py",
   "mimetype": "text/x-python",
   "name": "python",
   "nbconvert_exporter": "python",
   "pygments_lexer": "ipython3",
   "version": "3.5.1"
  }
 },
 "nbformat": 4,
 "nbformat_minor": 0
}
