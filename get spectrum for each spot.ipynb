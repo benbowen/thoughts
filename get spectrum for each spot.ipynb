{
 "cells": [
  {
   "cell_type": "markdown",
   "metadata": {},
   "source": [
    "# This is a prototype notebook.  Use at your own risk"
   ]
  },
  {
   "cell_type": "code",
   "execution_count": null,
   "metadata": {
    "collapsed": false
   },
   "outputs": [],
   "source": [
    "%run ../OpenMSI_Arrayed_Analysis_Tools/Arrayed_Analysis_Tools_python_2_or_3.ipy"
   ]
  },
  {
   "cell_type": "code",
   "execution_count": null,
   "metadata": {
    "collapsed": false
   },
   "outputs": [],
   "source": [
    "#Optional: Load an ArrayedImage from a pickle file. This way you can work off-line\n",
    "filename=\"../OpenMSI_Arrayed_Analysis_Tools/demo_spot_save.pkl\"\n",
    "import pickle\n",
    "img=pickle.load(open(filename,\"rb\"))\n",
    "print(img)"
   ]
  },
  {
   "cell_type": "code",
   "execution_count": null,
   "metadata": {
    "collapsed": false
   },
   "outputs": [],
   "source": [
    "import requests\n",
    "client = requests.Session()\n",
    "import getpass\n",
    "def authenticate_user(client,username):\n",
    "    password = getpass.getpass()\n",
    "    authURL = 'https://openmsi.nersc.gov/openmsi/client/login/'\n",
    "    # Retrieve the CSRF token first\n",
    "    client.get(authURL)  # sets cookie\n",
    "    csrftoken = client.cookies['csrftoken']\n",
    "    login_data = dict(username=username, password=password, csrfmiddlewaretoken=csrftoken, next='/')\n",
    "    r = client.post(authURL, data=login_data, headers=dict(Referer=authURL))\n",
    "    return client\n",
    "client = authenticate_user(client,'bpb') # put your username here in the quotes\n"
   ]
  },
  {
   "cell_type": "code",
   "execution_count": null,
   "metadata": {
    "collapsed": false
   },
   "outputs": [],
   "source": [
    "payload = {'file':img.filename,\n",
    "          'expIndex':img.expIndex,'dataIndex':img.dataIndex,'qspectrum_viewerOption':'0',\n",
    "          'qslice_viewerOption':'0',\n",
    "          'col':0,'row':0,\n",
    "          'findPeak':'0','format':'JSON'}\n",
    "url = 'https://openmsi.nersc.gov/openmsi/qmz'\n",
    "r = client.get(url,params=payload)\n",
    "data = json.loads(r.text)\n",
    "mz = np.asarray(data[u'values_spectra'])"
   ]
  },
  {
   "cell_type": "code",
   "execution_count": null,
   "metadata": {
    "collapsed": false,
    "scrolled": false
   },
   "outputs": [],
   "source": [
    "payload = {'file':img.filename,\n",
    "              'expIndex':img.expIndex,'dataIndex':img.dataIndex,'qspectrum_viewerOption':'0',\n",
    "          'qslice_viewerOption':'0','operations':'[{\"reduction\":\"mean\",\"axis\":0,\"min_dim\":2}]',\n",
    "              'findPeak':'0','format':'JSON'}\n",
    "url = 'https://openmsi.nersc.gov/openmsi/qspectrum'\n",
    "spectra_list = []\n",
    "spotLocations = img.spotLocations\n",
    "df = {}\n",
    "df['coords'] = []\n",
    "df['spectra'] = []\n",
    "for i,coord in enumerate(img.generateSpotList()):\n",
    "    payload['col'] = '[' + ','.join([str(c[1]) for c in coord]) + ']'\n",
    "    payload['row'] = '[' + ','.join([str(c[0]) for c in coord]) + ']'\n",
    "    r = client.get(url,params=payload)\n",
    "    data = json.loads(r.text)\n",
    "    df['coords'].append(coords)\n",
    "    df['spectra'].append(data)\n",
    "        "
   ]
  }
 ],
 "metadata": {
  "kernelspec": {
   "display_name": "Python 3",
   "language": "python",
   "name": "python3"
  },
  "language_info": {
   "codemirror_mode": {
    "name": "ipython",
    "version": 3
   },
   "file_extension": ".py",
   "mimetype": "text/x-python",
   "name": "python",
   "nbconvert_exporter": "python",
   "pygments_lexer": "ipython3",
   "version": "3.5.1"
  }
 },
 "nbformat": 4,
 "nbformat_minor": 0
}
