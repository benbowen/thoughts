{
 "cells": [
  {
   "cell_type": "code",
   "execution_count": 1,
   "metadata": {
    "collapsed": false
   },
   "outputs": [],
   "source": [
    "\n",
    "import json\n",
    "# import requests\n",
    "from rdkit import Chem\n",
    "import pandas as pd\n",
    "from wdqs import Client\n",
    "\n"
   ]
  },
  {
   "cell_type": "code",
   "execution_count": null,
   "metadata": {
    "collapsed": false
   },
   "outputs": [],
   "source": [
    "df = pd.read_excel('wikidata_compound_properties.xlsx')\n",
    "props = df['Property'].tolist()\n",
    "accession = df['Accession'].tolist()\n",
    "for i,p in enumerate(props):\n",
    "    props[i] = p[:-1]\n"
   ]
  },
  {
   "cell_type": "code",
   "execution_count": null,
   "metadata": {
    "collapsed": false,
    "scrolled": true
   },
   "outputs": [],
   "source": [
    "client = Client()\n",
    "terms = ''\n",
    "for p in props:\n",
    "    terms = '%s ?%s'%(terms,p)\n",
    "\n",
    "opt_prop = ''\n",
    "for i,p in enumerate(props):\n",
    "    opt_prop = '%sOPTIONAL { ?compound wdt:%s ?%s } .\\n'%(opt_prop,accession[i],p)\n",
    "\n",
    "query = '''\n",
    "SELECT ?compound ?compoundLabel%s\n",
    "WHERE\n",
    "{\n",
    "    ?compound wdt:P31 wd:Q11173 .\n",
    "    %s\n",
    "    SERVICE wikibase:label { bd:serviceParam wikibase:language \"en\" }\n",
    "}\n",
    "#ORDER BY ?compoundLabel\n",
    "'''%(terms,opt_prop)\n",
    "result = client.query(query)\n"
   ]
  },
  {
   "cell_type": "code",
   "execution_count": null,
   "metadata": {
    "collapsed": false
   },
   "outputs": [],
   "source": [
    "df = pd.DataFrame(result)\n",
    "df.to_excel('wikimedia_compound.xls')"
   ]
  },
  {
   "cell_type": "code",
   "execution_count": null,
   "metadata": {
    "collapsed": false
   },
   "outputs": [],
   "source": [
    "# from wdqs import Client\n",
    "# client = Client()\n",
    "\n",
    "# query = '''\n",
    "# SELECT ?discoverer ?name (COUNT(?asteroid) AS ?count)\n",
    "#  WHERE {\n",
    "#    ?asteroid wdt:P31 wd:Q11173 .\n",
    "#    ?asteroid wdt:P61 ?discoverer .\n",
    "\n",
    "#   SERVICE wikibase:label {\n",
    "#     bd:serviceParam wikibase:language \"en\" .\n",
    "#     ?discoverer rdfs:label ?name\n",
    "#    }\n",
    "#  }\n",
    "#  GROUP BY ?discoverer ?name \n",
    "#  ORDER BY DESC(?count)\n",
    "#  LIMIT 1000\n",
    "# '''\n",
    "# result = client.query(query)\n",
    "# result"
   ]
  },
  {
   "cell_type": "code",
   "execution_count": null,
   "metadata": {
    "collapsed": true
   },
   "outputs": [],
   "source": [
    "\"\"\" contribution from Hans de Winter \"\"\"\n",
    "def _InitialiseNeutralisationReactions():\n",
    "    patts= (\n",
    "        # Imidazoles\n",
    "        ('[n+;H]','n'),\n",
    "        # Amines\n",
    "        ('[N+;!H0]','N'),\n",
    "        # Carboxylic acids and alcohols\n",
    "        ('[$([O-]);!$([O-][#7])]','O'),\n",
    "        # Thiols\n",
    "        ('[S-;X1]','S'),\n",
    "        # Sulfonamides\n",
    "        ('[$([N-;X2]S(=O)=O)]','N'),\n",
    "        # Enamines\n",
    "        ('[$([N-;X2][C,N]=C)]','N'),\n",
    "        # Tetrazoles\n",
    "        ('[n-]','[nH]'),\n",
    "        # Sulfoxides\n",
    "        ('[$([S-]=O)]','S'),\n",
    "        # Amides\n",
    "        ('[$([N-]C=O)]','N'),\n",
    "        )\n",
    "    return [(Chem.MolFromSmarts(x),Chem.MolFromSmiles(y,False)) for x,y in patts]\n",
    "\n",
    "_reactions=None\n",
    "def NeutraliseCharges(mol, reactions=None):\n",
    "    global _reactions\n",
    "    if reactions is None:\n",
    "        if _reactions is None:\n",
    "            _reactions=_InitialiseNeutralisationReactions()\n",
    "        reactions=_reactions\n",
    "#     mol = Chem.MolFromSmiles(smiles)\n",
    "    replaced = False\n",
    "    for i,(reactant, product) in enumerate(reactions):\n",
    "        while mol.HasSubstructMatch(reactant):\n",
    "            replaced = True\n",
    "            rms = AllChem.ReplaceSubstructs(mol, reactant, product)\n",
    "            rms_smiles = Chem.MolToSmiles(rms[0])\n",
    "            mol = Chem.MolFromSmiles(rms_smiles)\n",
    "    if replaced:\n",
    "        return (mol, True) #Chem.MolToSmiles(mol,True)\n",
    "    else:\n",
    "        return (mol, False)"
   ]
  },
  {
   "cell_type": "code",
   "execution_count": null,
   "metadata": {
    "collapsed": true
   },
   "outputs": [],
   "source": [
    "# canonicalSMILES\n",
    "# InChI\n",
    "# PubChemCI"
   ]
  },
  {
   "cell_type": "code",
   "execution_count": null,
   "metadata": {
    "collapsed": false
   },
   "outputs": [],
   "source": [
    "neutral_inchi = []\n",
    "metatlas_name = []\n",
    "# for cc in allCompounds:\n",
    "inchi = df.iloc[0]['InChI'].encode('utf-8')\n",
    "smiles = df.iloc[0]['canonicalSMILES'].encode('utf-8')\n",
    "if not 'InChI=' in inchi:\n",
    "    inchi = '%s%s'%('InChI=',inchi)\n",
    "print inchi\n",
    "\n",
    "myMol_inchi = Chem.MolFromInchi(inchi)\n",
    "myMol, neutralised = NeutraliseCharges(myMol_inchi)\n",
    "print Chem.MolToInchi(myMol)\n",
    "\n",
    "myMol_smiles = Chem.MolFromSmiles(smiles)\n",
    "myMol, neutralised = NeutraliseCharges(myMol_smiles)\n",
    "print Chem.MolToInchi(myMol)\n",
    "\n",
    "#  ik.append(Chem.InchiToInchiKey(i))\n",
    "#                 nb.append(myMol.GetNumBonds())\n",
    "#                 charge.append(Chem.GetFormalCharge(myMol))\n",
    "# # metatlas_name.append(cc.name)\n",
    "\n",
    "# print inchi_key\n",
    "# url = 'https://pubchem.ncbi.nlm.nih.gov/rest/pug/compound/inchikey/%s/property/inchi/txt'%inchi_key\n",
    "# import requests\n",
    "# inchi = requests.get(url).content.strip().split('\\n')[0]\n",
    "# print inchi\n",
    "\n",
    "# # http://pubchem.ncbi.nlm.nih.gov/rest/pug/compound/cid/857,791,94244,614,1054,247,352038,107738,588,6140,80817,9837272,444109,938,6287,33032,118276,6057,6137,673,/property/MonoisotopicMass,MolecularFormula,InChI/CSV\n",
    "# import requests, json\n",
    "# # url = 'http://pubchem.ncbi.nlm.nih.gov/rest/pug/compound/cid/857/JSON'\n",
    "# url = 'http://pubchem.ncbi.nlm.nih.gov/rest/pug_view/data/compound/857/JSON'\n",
    "# r = requests.get(url)\n",
    "# d = r.json()\n",
    "# print d"
   ]
  },
  {
   "cell_type": "code",
   "execution_count": 44,
   "metadata": {
    "collapsed": true
   },
   "outputs": [],
   "source": [
    "from rdkit import Chem"
   ]
  },
  {
   "cell_type": "code",
   "execution_count": 2,
   "metadata": {
    "collapsed": true
   },
   "outputs": [],
   "source": [
    "# sdf_file = '/Users/bpb/Downloads/Compound_014300001_014325000.sdf'\n",
    "sdf_file = '/Users/bpb/Downloads/LMSDFDownload28Jun15/LMSDFDownload28Jun15FinalAll.sdf'\n",
    "# sdf_file = '/Users/bpb/Downloads/Compound_014300001_014325000.sdf.gz'\n",
    "# sdf_file = '/Users/bpb/Downloads/structures.sdf'"
   ]
  },
  {
   "cell_type": "code",
   "execution_count": 76,
   "metadata": {
    "collapsed": true
   },
   "outputs": [],
   "source": [
    "suppl = Chem.SDMolSupplier(sdf_file)\n",
    "mols = [m for m in suppl]\n",
    "# for m in suppl:\n",
    "#     print Chem.MolToInchi(m)"
   ]
  },
  {
   "cell_type": "code",
   "execution_count": 6,
   "metadata": {
    "collapsed": false
   },
   "outputs": [],
   "source": []
  },
  {
   "cell_type": "code",
   "execution_count": 78,
   "metadata": {
    "collapsed": false
   },
   "outputs": [],
   "source": [
    "import gzip\n",
    "with gzip.open(sdf_file,'rb') as inf:\n",
    "    fsuppl = Chem.ForwardSDMolSupplier(inf)\n",
    "    mols = [m for m in fsuppl]\n"
   ]
  },
  {
   "cell_type": "code",
   "execution_count": 79,
   "metadata": {
    "collapsed": false
   },
   "outputs": [
    {
     "data": {
      "text/plain": [
       "'InChI=1S/C8HCl3FNO/c9-6-3(8(11)14)1-5(12)7(10)4(6)2-13/h1H'"
      ]
     },
     "execution_count": 79,
     "metadata": {},
     "output_type": "execute_result"
    }
   ],
   "source": [
    "Chem.MolToInchi(mols[0])"
   ]
  },
  {
   "cell_type": "code",
   "execution_count": 69,
   "metadata": {
    "collapsed": false
   },
   "outputs": [
    {
     "name": "stdout",
     "output_type": "stream",
     "text": [
      "(638, 25)\n"
     ]
    }
   ],
   "source": [
    "# df = pd.read_excel('/Users/bpb/Downloads/MetAtlas_Export_MetaCyc_Compounds.xlsx')\n",
    "# df = pd.read_excel('/Users/bpb/Downloads/BML-2865.xlsx')\n",
    "df = pd.read_excel('/Users/bpb/Downloads/MSMLS map - mz overlap edit sk.xlsx')\n",
    "print df.shape\n"
   ]
  },
  {
   "cell_type": "code",
   "execution_count": 3,
   "metadata": {
    "collapsed": false
   },
   "outputs": [
    {
     "name": "stdout",
     "output_type": "stream",
     "text": [
      "(40716, 23)\n"
     ]
    }
   ],
   "source": [
    "from rdkit.Chem import PandasTools\n",
    "import pandas as pd\n",
    "# frame = PandasTools.LoadSDF(sdfFile,smilesName='SMILES',molColName='Molecule',includeFingerprints=True)\n",
    "frame = PandasTools.LoadSDF(sdf_file)\n",
    "print frame.shape"
   ]
  },
  {
   "cell_type": "code",
   "execution_count": 81,
   "metadata": {
    "collapsed": false
   },
   "outputs": [
    {
     "data": {
      "text/plain": [
       "Index([u'ID', u'PUBCHEM_ATOM_DEF_STEREO_COUNT', u'PUBCHEM_ATOM_UDEF_STEREO_COUNT', u'PUBCHEM_BONDANNOTATIONS', u'PUBCHEM_BOND_DEF_STEREO_COUNT', u'PUBCHEM_BOND_UDEF_STEREO_COUNT', u'PUBCHEM_CACTVS_COMPLEXITY', u'PUBCHEM_CACTVS_HBOND_ACCEPTOR', u'PUBCHEM_CACTVS_HBOND_DONOR', u'PUBCHEM_CACTVS_ROTATABLE_BOND', u'PUBCHEM_CACTVS_SUBSKEYS', u'PUBCHEM_CACTVS_TAUTO_COUNT', u'PUBCHEM_CACTVS_TPSA', u'PUBCHEM_COMPONENT_COUNT', u'PUBCHEM_COMPOUND_CANONICALIZED', u'PUBCHEM_COMPOUND_CID', u'PUBCHEM_COORDINATE_TYPE', u'PUBCHEM_EXACT_MASS', u'PUBCHEM_HEAVY_ATOM_COUNT', u'PUBCHEM_ISOTOPIC_ATOM_COUNT', u'PUBCHEM_IUPAC_CAS_NAME', u'PUBCHEM_IUPAC_INCHI', u'PUBCHEM_IUPAC_INCHIKEY', u'PUBCHEM_IUPAC_NAME', u'PUBCHEM_IUPAC_OPENEYE_NAME', u'PUBCHEM_IUPAC_SYSTEMATIC_NAME', u'PUBCHEM_IUPAC_TRADITIONAL_NAME', u'PUBCHEM_MOLECULAR_FORMULA', u'PUBCHEM_MOLECULAR_WEIGHT', u'PUBCHEM_MONOISOTOPIC_WEIGHT', u'PUBCHEM_NONSTANDARDBOND', u'PUBCHEM_OPENEYE_CAN_SMILES', u'PUBCHEM_OPENEYE_ISO_SMILES', u'PUBCHEM_TOTAL_CHARGE', u'PUBCHEM_XLOGP3', u'PUBCHEM_XLOGP3_AA', u'ROMol'], dtype='object')"
      ]
     },
     "execution_count": 81,
     "metadata": {},
     "output_type": "execute_result"
    }
   ],
   "source": [
    "frame.keys()#to_excel('first_sdf_file.xls')"
   ]
  },
  {
   "cell_type": "code",
   "execution_count": 53,
   "metadata": {
    "collapsed": false
   },
   "outputs": [],
   "source": [
    "frame.drop('ROMol', axis=1, inplace=True)"
   ]
  },
  {
   "cell_type": "code",
   "execution_count": 54,
   "metadata": {
    "collapsed": true
   },
   "outputs": [],
   "source": [
    "frame.to_excel('lipidmaps_sdf_file.xls')"
   ]
  },
  {
   "cell_type": "code",
   "execution_count": null,
   "metadata": {
    "collapsed": true
   },
   "outputs": [],
   "source": [
    "# #Get synonyms here:\n",
    "# # ftp://ftp.ncbi.nlm.nih.gov/pubchem/Compound/Extras/\n",
    "#     These are listings of all names associated with a CID. The\n",
    "#     unfiltered list are names aggregated from all SIDs whose \n",
    "#     standardized form is that CID, sorted by weight with the \"best\"\n",
    "#     names first. The filtered list has some names removed that are\n",
    "#     considered inconsistend with the structure. Both are gzipped text\n",
    "#     files with CID, tab, and name on each line. Note that the\n",
    "#     names may be composed of more than one word, separated by spaces."
   ]
  },
  {
   "cell_type": "code",
   "execution_count": null,
   "metadata": {
    "collapsed": true
   },
   "outputs": [],
   "source": [
    "# df['bar'].fillna(df['foo'], inplace=True)\n",
    "# del df['foo']"
   ]
  }
 ],
 "metadata": {
  "kernelspec": {
   "display_name": "Python 2",
   "language": "python",
   "name": "python2"
  },
  "language_info": {
   "codemirror_mode": {
    "name": "ipython",
    "version": 2
   },
   "file_extension": ".py",
   "mimetype": "text/x-python",
   "name": "python",
   "nbconvert_exporter": "python",
   "pygments_lexer": "ipython2",
   "version": "2.7.11"
  }
 },
 "nbformat": 4,
 "nbformat_minor": 0
}
