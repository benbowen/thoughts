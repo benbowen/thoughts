{
 "cells": [
  {
   "cell_type": "markdown",
   "metadata": {},
   "source": [
    "## Imagine that we have height vs age data for people fed diet a vs b"
   ]
  },
  {
   "cell_type": "code",
   "execution_count": 1,
   "metadata": {
    "collapsed": false
   },
   "outputs": [],
   "source": [
    "import numpy as np\n",
    "from scipy import stats\n",
    "import pandas as pd\n",
    "from statsmodels.formula.api import ols\n",
    "\n"
   ]
  },
  {
   "cell_type": "code",
   "execution_count": 2,
   "metadata": {
    "collapsed": false
   },
   "outputs": [
    {
     "data": {
      "text/html": [
       "<div>\n",
       "<table border=\"1\" class=\"dataframe\">\n",
       "  <thead>\n",
       "    <tr style=\"text-align: right;\">\n",
       "      <th></th>\n",
       "      <th>age</th>\n",
       "      <th>diet</th>\n",
       "      <th>height</th>\n",
       "    </tr>\n",
       "  </thead>\n",
       "  <tbody>\n",
       "    <tr>\n",
       "      <th>0</th>\n",
       "      <td>1</td>\n",
       "      <td>a</td>\n",
       "      <td>12</td>\n",
       "    </tr>\n",
       "    <tr>\n",
       "      <th>1</th>\n",
       "      <td>1</td>\n",
       "      <td>a</td>\n",
       "      <td>11</td>\n",
       "    </tr>\n",
       "    <tr>\n",
       "      <th>2</th>\n",
       "      <td>1</td>\n",
       "      <td>a</td>\n",
       "      <td>13</td>\n",
       "    </tr>\n",
       "    <tr>\n",
       "      <th>3</th>\n",
       "      <td>2</td>\n",
       "      <td>a</td>\n",
       "      <td>17</td>\n",
       "    </tr>\n",
       "    <tr>\n",
       "      <th>4</th>\n",
       "      <td>2</td>\n",
       "      <td>a</td>\n",
       "      <td>24</td>\n",
       "    </tr>\n",
       "    <tr>\n",
       "      <th>5</th>\n",
       "      <td>2</td>\n",
       "      <td>a</td>\n",
       "      <td>22</td>\n",
       "    </tr>\n",
       "    <tr>\n",
       "      <th>6</th>\n",
       "      <td>3</td>\n",
       "      <td>a</td>\n",
       "      <td>25</td>\n",
       "    </tr>\n",
       "    <tr>\n",
       "      <th>7</th>\n",
       "      <td>3</td>\n",
       "      <td>a</td>\n",
       "      <td>33</td>\n",
       "    </tr>\n",
       "    <tr>\n",
       "      <th>8</th>\n",
       "      <td>3</td>\n",
       "      <td>a</td>\n",
       "      <td>31</td>\n",
       "    </tr>\n",
       "    <tr>\n",
       "      <th>9</th>\n",
       "      <td>1</td>\n",
       "      <td>b</td>\n",
       "      <td>15</td>\n",
       "    </tr>\n",
       "    <tr>\n",
       "      <th>10</th>\n",
       "      <td>1</td>\n",
       "      <td>b</td>\n",
       "      <td>17</td>\n",
       "    </tr>\n",
       "    <tr>\n",
       "      <th>11</th>\n",
       "      <td>1</td>\n",
       "      <td>b</td>\n",
       "      <td>14</td>\n",
       "    </tr>\n",
       "    <tr>\n",
       "      <th>12</th>\n",
       "      <td>2</td>\n",
       "      <td>b</td>\n",
       "      <td>29</td>\n",
       "    </tr>\n",
       "    <tr>\n",
       "      <th>13</th>\n",
       "      <td>2</td>\n",
       "      <td>b</td>\n",
       "      <td>28</td>\n",
       "    </tr>\n",
       "    <tr>\n",
       "      <th>14</th>\n",
       "      <td>2</td>\n",
       "      <td>b</td>\n",
       "      <td>35</td>\n",
       "    </tr>\n",
       "    <tr>\n",
       "      <th>15</th>\n",
       "      <td>3</td>\n",
       "      <td>b</td>\n",
       "      <td>48</td>\n",
       "    </tr>\n",
       "    <tr>\n",
       "      <th>16</th>\n",
       "      <td>3</td>\n",
       "      <td>b</td>\n",
       "      <td>53</td>\n",
       "    </tr>\n",
       "    <tr>\n",
       "      <th>17</th>\n",
       "      <td>3</td>\n",
       "      <td>b</td>\n",
       "      <td>50</td>\n",
       "    </tr>\n",
       "  </tbody>\n",
       "</table>\n",
       "</div>"
      ],
      "text/plain": [
       "    age diet  height\n",
       "0     1    a      12\n",
       "1     1    a      11\n",
       "2     1    a      13\n",
       "3     2    a      17\n",
       "4     2    a      24\n",
       "5     2    a      22\n",
       "6     3    a      25\n",
       "7     3    a      33\n",
       "8     3    a      31\n",
       "9     1    b      15\n",
       "10    1    b      17\n",
       "11    1    b      14\n",
       "12    2    b      29\n",
       "13    2    b      28\n",
       "14    2    b      35\n",
       "15    3    b      48\n",
       "16    3    b      53\n",
       "17    3    b      50"
      ]
     },
     "execution_count": 2,
     "metadata": {},
     "output_type": "execute_result"
    }
   ],
   "source": [
    "height = np.array([12,11,13,17,24,22,25,33,31])\n",
    "age = np.array([1,1,1,2,2,2,3,3,3])\n",
    "df_1 = pd.DataFrame({'age':age,'height':height,'diet':'a'})\n",
    "height = np.array([15,17,14,29,28,35,48,53,50])\n",
    "age = np.array([1,1,1,2,2,2,3,3,3])\n",
    "df_2 = pd.DataFrame({'age':age,'height':height,'diet':'b'})\n",
    "df = pd.concat([df_1,df_2]).reset_index(drop=True)\n",
    "df"
   ]
  },
  {
   "cell_type": "markdown",
   "metadata": {},
   "source": [
    "### First diet a"
   ]
  },
  {
   "cell_type": "code",
   "execution_count": 3,
   "metadata": {
    "collapsed": false
   },
   "outputs": [
    {
     "name": "stdout",
     "output_type": "stream",
     "text": [
      "slope = 8.83 +/- 1.45\n",
      "intercept = 3.22 +/- 3.12\n"
     ]
    }
   ],
   "source": [
    "z, c = np.polyfit(df[df.diet=='a'].age, df[df.diet=='a'].height, 1, cov=True)\n",
    "slope_diet_a = z[0]\n",
    "intercept_diet_a = z[1]\n",
    "stdev_slope_diet_a = np.sqrt(c[0][0])\n",
    "stdev_intercept_diet_a = np.sqrt(c[1][1])\n",
    "print(\"slope = %.2f +/- %.2f\"%(slope_diet_a,stdev_slope_diet_a ))\n",
    "print(\"intercept = %.2f +/- %.2f\"%(intercept_diet_a, stdev_intercept_diet_a ))"
   ]
  },
  {
   "cell_type": "markdown",
   "metadata": {},
   "source": [
    "### Then diet b"
   ]
  },
  {
   "cell_type": "code",
   "execution_count": 4,
   "metadata": {
    "collapsed": false
   },
   "outputs": [
    {
     "name": "stdout",
     "output_type": "stream",
     "text": [
      "slope = 17.50 +/- 1.36\n",
      "intercept = -2.89 +/- 2.94\n"
     ]
    }
   ],
   "source": [
    "z, c = np.polyfit(df[df.diet=='b'].age, df[df.diet=='b'].height, 1, cov=True)\n",
    "slope_diet_b = z[0]\n",
    "intercept_diet_b = z[1]\n",
    "stdev_slope_diet_b = np.sqrt(c[0][0])\n",
    "stdev_intercept_diet_b = np.sqrt(c[1][1])\n",
    "print(\"slope = %.2f +/- %.2f\"%(slope_diet_b,stdev_slope_diet_b ))\n",
    "print(\"intercept = %.2f +/- %.2f\"%(intercept_diet_b, stdev_intercept_diet_b ))"
   ]
  },
  {
   "cell_type": "markdown",
   "metadata": {},
   "source": [
    "### Ratio in growth rates"
   ]
  },
  {
   "cell_type": "code",
   "execution_count": 5,
   "metadata": {
    "collapsed": false
   },
   "outputs": [
    {
     "name": "stdout",
     "output_type": "stream",
     "text": [
      "ratio = 0.50 +/- 0.09\n"
     ]
    }
   ],
   "source": [
    "ratio = slope_diet_a / slope_diet_b\n",
    "stdev_ratio = ratio * np.sqrt( (stdev_slope_diet_a / slope_diet_a)**2 + (stdev_slope_diet_b/slope_diet_b)**2 )\n",
    "print(\"ratio = %.2f +/- %.2f\"%(ratio,stdev_ratio))"
   ]
  },
  {
   "cell_type": "markdown",
   "metadata": {},
   "source": [
    "### Calculate a linear least-squares regression for two sets of measurements\n",
    "* ### p-value that you can reject hypothesis that slope is zero\n",
    "* ### correlation coefficient"
   ]
  },
  {
   "cell_type": "code",
   "execution_count": 6,
   "metadata": {
    "collapsed": false
   },
   "outputs": [
    {
     "name": "stdout",
     "output_type": "stream",
     "text": [
      "p-value = 1.26E-06\n",
      "r_value = 0.99\n"
     ]
    }
   ],
   "source": [
    "slope, intercept, r_value, p_value, std_err = stats.linregress(age, height)\n",
    "print(\"p-value = %.2E\"%p_value)\n",
    "print(\"r_value = %.2f\"%r_value)"
   ]
  },
  {
   "cell_type": "markdown",
   "metadata": {},
   "source": [
    "### Now, calculate an analysis of covariance"
   ]
  },
  {
   "cell_type": "markdown",
   "metadata": {
    "collapsed": true
   },
   "source": [
    "http://www.alexsalo.xyz/ancova-comparing-regression-slopes/\n",
    "\n",
    "http://www.statsmakemecry.com/smmctheblog/stats-soup-anova-ancova-manova-mancova"
   ]
  },
  {
   "cell_type": "code",
   "execution_count": 7,
   "metadata": {
    "collapsed": false
   },
   "outputs": [
    {
     "name": "stdout",
     "output_type": "stream",
     "text": [
      "                            OLS Regression Results                            \n",
      "==============================================================================\n",
      "Dep. Variable:                 height   R-squared:                       0.961\n",
      "Model:                            OLS   Adj. R-squared:                  0.952\n",
      "Method:                 Least Squares   F-statistic:                     113.5\n",
      "Date:                Tue, 21 Mar 2017   Prob (F-statistic):           4.63e-10\n",
      "Time:                        13:06:19   Log-Likelihood:                -42.472\n",
      "No. Observations:                  18   AIC:                             92.94\n",
      "Df Residuals:                      14   BIC:                             96.51\n",
      "Df Model:                           3                                         \n",
      "Covariance Type:            nonrobust                                         \n",
      "====================================================================================\n",
      "                       coef    std err          t      P>|t|      [95.0% Conf. Int.]\n",
      "------------------------------------------------------------------------------------\n",
      "Intercept            3.2222      2.562      1.258      0.229        -2.272     8.716\n",
      "C(diet)[T.b]        -6.1111      3.623     -1.687      0.114       -13.881     1.659\n",
      "age                  8.8333      1.186      7.449      0.000         6.290    11.377\n",
      "age:C(diet)[T.b]     8.6667      1.677      5.168      0.000         5.070    12.263\n",
      "==============================================================================\n",
      "Omnibus:                        1.718   Durbin-Watson:                   2.605\n",
      "Prob(Omnibus):                  0.424   Jarque-Bera (JB):                1.223\n",
      "Skew:                          -0.406   Prob(JB):                        0.543\n",
      "Kurtosis:                       2.015   Cond. No.                         17.8\n",
      "==============================================================================\n",
      "\n",
      "Warnings:\n",
      "[1] Standard Errors assume that the covariance matrix of the errors is correctly specified.\n"
     ]
    },
    {
     "name": "stderr",
     "output_type": "stream",
     "text": [
      "/Users/bpb/anaconda/lib/python3.5/site-packages/scipy/stats/stats.py:1535: UserWarning: kurtosistest only valid for n>=20 ... continuing anyway, n=18\n",
      "  \"anyway, n=%i\" % int(n))\n"
     ]
    }
   ],
   "source": [
    "formula = 'height ~ age * C(diet)'  # ANCOVA formula\n",
    "lm = ols(formula, df)\n",
    "fit = lm.fit()\n",
    "print(fit.summary())"
   ]
  },
  {
   "cell_type": "code",
   "execution_count": 8,
   "metadata": {
    "collapsed": false
   },
   "outputs": [
    {
     "data": {
      "text/plain": [
       "Intercept           0.229004\n",
       "C(diet)[T.b]        0.113762\n",
       "age                 0.000003\n",
       "age:C(diet)[T.b]    0.000143\n",
       "dtype: float64"
      ]
     },
     "execution_count": 8,
     "metadata": {},
     "output_type": "execute_result"
    }
   ],
   "source": [
    "fit.pvalues"
   ]
  },
  {
   "cell_type": "markdown",
   "metadata": {},
   "source": [
    "We can reject the hypothesis that the height as a function of age has the same slope for diet \"a\" and \"b\""
   ]
  },
  {
   "cell_type": "code",
   "execution_count": null,
   "metadata": {
    "collapsed": true
   },
   "outputs": [],
   "source": []
  }
 ],
 "metadata": {
  "anaconda-cloud": {},
  "kernelspec": {
   "display_name": "Python [default]",
   "language": "python",
   "name": "python3"
  },
  "language_info": {
   "codemirror_mode": {
    "name": "ipython",
    "version": 3
   },
   "file_extension": ".py",
   "mimetype": "text/x-python",
   "name": "python",
   "nbconvert_exporter": "python",
   "pygments_lexer": "ipython3",
   "version": "3.5.2"
  }
 },
 "nbformat": 4,
 "nbformat_minor": 2
}
