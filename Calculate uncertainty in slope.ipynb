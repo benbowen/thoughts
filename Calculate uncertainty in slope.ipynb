{
 "cells": [
  {
   "cell_type": "markdown",
   "metadata": {},
   "source": [
    "## Imagine that we have height vs age data for people fed diet a vs b"
   ]
  },
  {
   "cell_type": "code",
   "execution_count": 1,
   "metadata": {
    "collapsed": false
   },
   "outputs": [],
   "source": [
    "import numpy as np\n",
    "from scipy import stats"
   ]
  },
  {
   "cell_type": "markdown",
   "metadata": {},
   "source": [
    "### First diet a"
   ]
  },
  {
   "cell_type": "code",
   "execution_count": 2,
   "metadata": {
    "collapsed": false
   },
   "outputs": [
    {
     "name": "stdout",
     "output_type": "stream",
     "text": [
      "slope = 8.83 +/- 1.45\n",
      "intercept = 3.22 +/- 3.12\n"
     ]
    }
   ],
   "source": [
    "\n",
    "height = np.array([12,11,13,17,24,22,25,33,31])\n",
    "age = np.array([1,1,1,2,2,2,3,3,3])\n",
    "\n",
    "z, c = np.polyfit(age, height, 1, cov=True)\n",
    "slope_diet_a = z[0]\n",
    "intercept_diet_a = z[1]\n",
    "stdev_slope_diet_a = np.sqrt(c[0][0])\n",
    "stdev_intercept_diet_a = np.sqrt(c[1][1])\n",
    "print(\"slope = %.2f +/- %.2f\"%(slope_diet_a,stdev_slope_diet_a ))\n",
    "print(\"intercept = %.2f +/- %.2f\"%(intercept_diet_a, stdev_intercept_diet_a ))"
   ]
  },
  {
   "cell_type": "markdown",
   "metadata": {},
   "source": [
    "### Then diet b"
   ]
  },
  {
   "cell_type": "code",
   "execution_count": 3,
   "metadata": {
    "collapsed": false
   },
   "outputs": [
    {
     "name": "stdout",
     "output_type": "stream",
     "text": [
      "slope = 10.17 +/- 1.14\n",
      "intercept = 5.56 +/- 2.45\n"
     ]
    }
   ],
   "source": [
    "\n",
    "height = np.array([15,17,14,27,24,29,35,33,39])\n",
    "age = np.array([1,1,1,2,2,2,3,3,3])\n",
    "\n",
    "z, c = np.polyfit(age, height, 1, cov=True)\n",
    "slope_diet_b = z[0]\n",
    "intercept_diet_b = z[1]\n",
    "stdev_slope_diet_b = np.sqrt(c[0][0])\n",
    "stdev_intercept_diet_b = np.sqrt(c[1][1])\n",
    "print(\"slope = %.2f +/- %.2f\"%(slope_diet_b,stdev_slope_diet_b ))\n",
    "print(\"intercept = %.2f +/- %.2f\"%(intercept_diet_b, stdev_intercept_diet_b ))"
   ]
  },
  {
   "cell_type": "markdown",
   "metadata": {},
   "source": [
    "### Ratio in growth rates"
   ]
  },
  {
   "cell_type": "code",
   "execution_count": 4,
   "metadata": {
    "collapsed": false
   },
   "outputs": [
    {
     "name": "stdout",
     "output_type": "stream",
     "text": [
      "ratio = 0.87 +/- 0.17\n"
     ]
    }
   ],
   "source": [
    "ratio = slope_diet_a / slope_diet_b\n",
    "stdev_ratio = ratio * np.sqrt( (stdev_slope_diet_a / slope_diet_a)**2 + (stdev_slope_diet_b/slope_diet_b)**2 )\n",
    "print(\"ratio = %.2f +/- %.2f\"%(ratio,stdev_ratio))"
   ]
  },
  {
   "cell_type": "markdown",
   "metadata": {},
   "source": [
    "### Calculate a linear least-squares regression for two sets of measurements\n",
    "* ### p-value that you can reject hypothesis that slope is zero\n",
    "* ### correlation coefficient"
   ]
  },
  {
   "cell_type": "code",
   "execution_count": 7,
   "metadata": {
    "collapsed": false
   },
   "outputs": [
    {
     "name": "stdout",
     "output_type": "stream",
     "text": [
      "p-value = 1.47E-05\n",
      "r_value = 0.97\n"
     ]
    }
   ],
   "source": [
    "slope, intercept, r_value, p_value, std_err = stats.linregress(age, height)\n",
    "print(\"p-value = %.2E\"%p_value)\n",
    "print(\"r_value = %.2f\"%r_value)"
   ]
  },
  {
   "cell_type": "code",
   "execution_count": null,
   "metadata": {
    "collapsed": true
   },
   "outputs": [],
   "source": []
  }
 ],
 "metadata": {
  "anaconda-cloud": {},
  "kernelspec": {
   "display_name": "Python [default]",
   "language": "python",
   "name": "python3"
  },
  "language_info": {
   "codemirror_mode": {
    "name": "ipython",
    "version": 3
   },
   "file_extension": ".py",
   "mimetype": "text/x-python",
   "name": "python",
   "nbconvert_exporter": "python",
   "pygments_lexer": "ipython3",
   "version": "3.5.2"
  }
 },
 "nbformat": 4,
 "nbformat_minor": 2
}
