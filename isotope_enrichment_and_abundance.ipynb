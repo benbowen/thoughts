{
 "cells": [
  {
   "cell_type": "code",
   "execution_count": null,
   "metadata": {},
   "outputs": [],
   "source": [
    "%matplotlib notebook\n",
    "import dill\n",
    "import pandas as pd\n",
    "import matplotlib.pyplot as plt\n",
    "import os\n",
    "import re"
   ]
  },
  {
   "cell_type": "code",
   "execution_count": null,
   "metadata": {},
   "outputs": [],
   "source": [
    "\n",
    "filename = '/Users/bpb/Downloads/positive_mode_isotope_data.pkl'\n",
    "with open(filename,'rb') as fid:\n",
    "    data = dill.load(fid)"
   ]
  },
  {
   "cell_type": "code",
   "execution_count": null,
   "metadata": {},
   "outputs": [],
   "source": [
    "for i,d in enumerate(data):\n",
    "    data[i]['rt_peak'] = pd.DataFrame(data[i]['rt_peak'])\n",
    "    data[i]['peak_height'] = pd.DataFrame(data[i]['peak_height'])"
   ]
  },
  {
   "cell_type": "code",
   "execution_count": null,
   "metadata": {
    "scrolled": false
   },
   "outputs": [],
   "source": [
    "[c.replace('20171221_TS_DB_fullcyc_QE144_50454-738379_','') for c in data[0]['rt_peak'].columns.tolist()]"
   ]
  },
  {
   "cell_type": "code",
   "execution_count": null,
   "metadata": {},
   "outputs": [],
   "source": [
    "[(i,d['compound']) for i,d in enumerate(data)]"
   ]
  },
  {
   "cell_type": "code",
   "execution_count": null,
   "metadata": {},
   "outputs": [],
   "source": [
    "cpd_id = 30"
   ]
  },
  {
   "cell_type": "code",
   "execution_count": null,
   "metadata": {},
   "outputs": [],
   "source": [
    "len(data)"
   ]
  },
  {
   "cell_type": "code",
   "execution_count": null,
   "metadata": {},
   "outputs": [],
   "source": [
    "data[cpd_id].keys()"
   ]
  },
  {
   "cell_type": "code",
   "execution_count": null,
   "metadata": {},
   "outputs": [],
   "source": [
    "data[cpd_id]['compound']"
   ]
  },
  {
   "cell_type": "code",
   "execution_count": null,
   "metadata": {},
   "outputs": [],
   "source": [
    "data[cpd_id]['rt_peak'].columns[:3]"
   ]
  },
  {
   "cell_type": "code",
   "execution_count": null,
   "metadata": {},
   "outputs": [],
   "source": [
    "data[cpd_id]['peak_height'].columns[:3]"
   ]
  },
  {
   "cell_type": "code",
   "execution_count": null,
   "metadata": {},
   "outputs": [],
   "source": [
    "treatments = list(set(['_'.join(c.split('_')[7:9]) for c in data[cpd_id]['peak_height'].columns if 'D' in c]))\n",
    "treatments"
   ]
  },
  {
   "cell_type": "code",
   "execution_count": null,
   "metadata": {},
   "outputs": [],
   "source": [
    "time_points = []\n",
    "for c in data[cpd_id]['peak_height'].columns:\n",
    "    try:\n",
    "        found = re.search('_D\\d+_', c).group()\n",
    "        time_points.append(found.strip('_'))\n",
    "    except AttributeError:\n",
    "        pass\n",
    "time_points = list(set(time_points))\n",
    "time_points"
   ]
  },
  {
   "cell_type": "code",
   "execution_count": null,
   "metadata": {},
   "outputs": [],
   "source": [
    "groups = list(set(['_'.join(c.split('_')[7:10]) for c in data[cpd_id]['peak_height'].columns if 'D48' in c]))\n",
    "groups"
   ]
  },
  {
   "cell_type": "code",
   "execution_count": null,
   "metadata": {},
   "outputs": [],
   "source": [
    "peak_height = data[cpd_id]['peak_height']\n",
    "control = peak_height[[c for c in peak_height.columns if groups[0] in c]].mean(axis=1)\n",
    "control"
   ]
  },
  {
   "cell_type": "code",
   "execution_count": null,
   "metadata": {},
   "outputs": [],
   "source": [
    "labeled = peak_height[[c for c in peak_height.columns if groups[2] in c]].mean(axis=1)\n",
    "labeled"
   ]
  },
  {
   "cell_type": "code",
   "execution_count": null,
   "metadata": {},
   "outputs": [],
   "source": [
    "labeled - control"
   ]
  },
  {
   "cell_type": "code",
   "execution_count": null,
   "metadata": {},
   "outputs": [],
   "source": [
    "diff_data = {}\n",
    "for g in groups:\n",
    "    sub_data = peak_height[[c for c in peak_height.columns if g in c]].mean(axis=1)\n",
    "    diff_data[g] = sub_data\n",
    "df = pd.DataFrame(diff_data)\n",
    "df"
   ]
  },
  {
   "cell_type": "code",
   "execution_count": null,
   "metadata": {
    "scrolled": false
   },
   "outputs": [],
   "source": [
    "plt.ioff()\n",
    "for time_point in time_points:\n",
    "    folder_name = 'isotope_figs'\n",
    "    if not os.path.isdir(folder_name):\n",
    "        os.mkdir(folder_name)\n",
    "    for cpd_id in range(len(data)):\n",
    "        peak_height = data[cpd_id]['peak_height']\n",
    "        diff_data = {}\n",
    "        fig = plt.figure()\n",
    "        ax = fig.gca()\n",
    "        for treatment in treatments:\n",
    "            g = '%s_%s'%(treatment,time_point)\n",
    "            sub_data = peak_height[[c for c in peak_height.columns if g in c]].mean(axis=1)\n",
    "            diff_data[g] = sub_data\n",
    "        df = pd.DataFrame(diff_data)\n",
    "        df.index = [d.replace('p','.') for d in df.index]\n",
    "        df[:-1].plot(kind='bar',ax=ax) #drop the unnecessary last ion\n",
    "        plt.title(data[cpd_id]['compound'],fontsize=18)\n",
    "        ax.set_yscale('log')\n",
    "        plt.ylabel('Peak Height (au)')\n",
    "        plt.xlabel('m/z')\n",
    "        plt.tight_layout()\n",
    "        fig.savefig(os.path.join(folder_name,'%s_%s.pdf'%(data[cpd_id]['compound'],time_point)))\n",
    "        fig.clear()\n",
    "plt.ion()"
   ]
  },
  {
   "cell_type": "code",
   "execution_count": null,
   "metadata": {},
   "outputs": [],
   "source": []
  }
 ],
 "metadata": {
  "kernelspec": {
   "display_name": "Python 2",
   "language": "python",
   "name": "python2"
  },
  "language_info": {
   "codemirror_mode": {
    "name": "ipython",
    "version": 2
   },
   "file_extension": ".py",
   "mimetype": "text/x-python",
   "name": "python",
   "nbconvert_exporter": "python",
   "pygments_lexer": "ipython2",
   "version": "2.7.14"
  }
 },
 "nbformat": 4,
 "nbformat_minor": 2
}
