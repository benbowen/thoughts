{
 "cells": [
  {
   "cell_type": "code",
   "execution_count": 34,
   "metadata": {},
   "outputs": [],
   "source": [
    "%matplotlib notebook\n",
    "import dill\n",
    "import pandas as pd\n",
    "import matplotlib.pyplot as plt\n",
    "import os\n",
    "import re"
   ]
  },
  {
   "cell_type": "code",
   "execution_count": 2,
   "metadata": {},
   "outputs": [],
   "source": [
    "\n",
    "filename = '/Users/bpb/Downloads/positive_mode_isotope_data.pkl'\n",
    "with open(filename,'rb') as fid:\n",
    "    data = dill.load(fid)"
   ]
  },
  {
   "cell_type": "code",
   "execution_count": 3,
   "metadata": {},
   "outputs": [
    {
     "data": {
      "text/plain": [
       "[(0, u'glycocyamine_10p54'),\n",
       " (1, u'D-Glucosamine_10p77'),\n",
       " (2, u'L-Allothreonine_10p03'),\n",
       " (3, u'creatinine_4p51'),\n",
       " (4, u'N-Acetylneuraminic_9p74'),\n",
       " (5, u'2-Aminoisobutyric_9p24'),\n",
       " (6, u'1-Aminocyclopropanecarboxylic_10p01'),\n",
       " (7, u'dl-3-Aminoisobutyric_10p08'),\n",
       " (8, u'5-Aminovaleric_11p98'),\n",
       " (9, u'L-ornithine_18p53'),\n",
       " (10, u'xanthosine_8p45'),\n",
       " (11, u'L-2-Aminoadipic_11p82'),\n",
       " (12, u'2deoxycytidine_5p30'),\n",
       " (13, u'L-arabitol_6p30'),\n",
       " (14, u'14289-34-0_14p73'),\n",
       " (15, u'3-carboxy-1-methylpyridinium_8p47'),\n",
       " (16, u'L-glutamine_10p90'),\n",
       " (17, u'L-threonine_10p51'),\n",
       " (18, u'Imidazole-4-acetic_9p83'),\n",
       " (19, u'2deoxyadenosine_2p25'),\n",
       " (20, u'creatine_10p23'),\n",
       " (21, u'ectoine_9p56'),\n",
       " (22, u'L-tyrosine_8p74'),\n",
       " (23, u'cytidine_6p58'),\n",
       " (24, u'L-citrulline_11p53'),\n",
       " (25, u'nicotinamide_1p42'),\n",
       " (26, u'2deoxyguanosine_6p36'),\n",
       " (27, u'adenosine_3p52'),\n",
       " (28, u'4-aminobutyric_11p66'),\n",
       " (29, u'L-methionine_7p78'),\n",
       " (30, u'L-lysine_18p40'),\n",
       " (31, u'cytosine_5p23'),\n",
       " (32, u'TRIMETHYL_8p17'),\n",
       " (33, u'guanine_6p21'),\n",
       " (34, u'L-arginine_18p21'),\n",
       " (35, u'Pterin_4p95'),\n",
       " (36, u'Glycerophosphocholine_12p10'),\n",
       " (37, u'L-phenylalanine_6p72'),\n",
       " (38, u'gamma-butyrobetaine_12p66'),\n",
       " (39, u'guanosine_7p44'),\n",
       " (40, u'4-Guanidinobutyric_10p98'),\n",
       " (41, u'L-serine_10p99'),\n",
       " (42, u'adenine_3p52'),\n",
       " (43, u'l-Pipecolic_8p44'),\n",
       " (44, u'hypoxanthine_4p40'),\n",
       " (45, u'L-proline_8p87'),\n",
       " (46, u'inosine_5p99'),\n",
       " (47, u'L-threonic_9p86'),\n",
       " (48, u'L-tryptophan_7p46'),\n",
       " (49, u'1-Methyladenosine_2p60'),\n",
       " (50, u'dTDP-alpha-D-glucose_9p76'),\n",
       " (51, u'glycine_10p92'),\n",
       " (52, u'hypotaurine_10p40'),\n",
       " (53, u'Glycine_9p97'),\n",
       " (54, u'Untitled_5p38'),\n",
       " (55, u'L-Gulonolactone_5p37'),\n",
       " (56, u'pyrocatechol_2p09'),\n",
       " (57, u'L-histidine_11p39'),\n",
       " (58, u'pimelic_10p39'),\n",
       " (59, u'99-98-9_3p63'),\n",
       " (60, u'L-Carnosine_13p88')]"
      ]
     },
     "execution_count": 3,
     "metadata": {},
     "output_type": "execute_result"
    }
   ],
   "source": [
    "[(i,d['compound']) for i,d in enumerate(data)]"
   ]
  },
  {
   "cell_type": "code",
   "execution_count": 4,
   "metadata": {},
   "outputs": [],
   "source": [
    "cpd_id = 30"
   ]
  },
  {
   "cell_type": "code",
   "execution_count": 5,
   "metadata": {},
   "outputs": [
    {
     "data": {
      "text/plain": [
       "61"
      ]
     },
     "execution_count": 5,
     "metadata": {},
     "output_type": "execute_result"
    }
   ],
   "source": [
    "len(data)"
   ]
  },
  {
   "cell_type": "code",
   "execution_count": 6,
   "metadata": {},
   "outputs": [
    {
     "data": {
      "text/plain": [
       "['rt_peak', 'peak_height', 'compound']"
      ]
     },
     "execution_count": 6,
     "metadata": {},
     "output_type": "execute_result"
    }
   ],
   "source": [
    "data[cpd_id].keys()"
   ]
  },
  {
   "cell_type": "code",
   "execution_count": 7,
   "metadata": {},
   "outputs": [
    {
     "data": {
      "text/plain": [
       "u'L-lysine_18p40'"
      ]
     },
     "execution_count": 7,
     "metadata": {},
     "output_type": "execute_result"
    }
   ],
   "source": [
    "data[cpd_id]['compound']"
   ]
  },
  {
   "cell_type": "code",
   "execution_count": 8,
   "metadata": {},
   "outputs": [
    {
     "data": {
      "text/plain": [
       "Index([u'20171221_TS_DB_fullcyc_QE144_50454-738379_30_13C_Cel_D30_2_POS_106.h5',\n",
       "       u'20171221_TS_DB_fullcyc_QE144_50454-738379_74_13C_Van_D48_3_POS_172.h5',\n",
       "       u'20171221_TS_DB_fullcyc_QE144_50454-738379_94_13C_Ami_D14_1_POS_221.h5'],\n",
       "      dtype='object', name=u'file')"
      ]
     },
     "execution_count": 8,
     "metadata": {},
     "output_type": "execute_result"
    }
   ],
   "source": [
    "data[cpd_id]['rt_peak'].columns[:3]"
   ]
  },
  {
   "cell_type": "code",
   "execution_count": 9,
   "metadata": {},
   "outputs": [
    {
     "data": {
      "text/plain": [
       "Index([u'20171221_TS_DB_fullcyc_QE144_50454-738379_30_13C_Cel_D30_2_POS_106.h5',\n",
       "       u'20171221_TS_DB_fullcyc_QE144_50454-738379_74_13C_Van_D48_3_POS_172.h5',\n",
       "       u'20171221_TS_DB_fullcyc_QE144_50454-738379_94_13C_Ami_D14_1_POS_221.h5'],\n",
       "      dtype='object', name=u'file')"
      ]
     },
     "execution_count": 9,
     "metadata": {},
     "output_type": "execute_result"
    }
   ],
   "source": [
    "data[cpd_id]['peak_height'].columns[:3]"
   ]
  },
  {
   "cell_type": "code",
   "execution_count": 29,
   "metadata": {},
   "outputs": [
    {
     "data": {
      "text/plain": [
       "[u'13C_Cel', u'12C_con', u'13C_Pal', u'13C_Van', u'H2O_con']"
      ]
     },
     "execution_count": 29,
     "metadata": {},
     "output_type": "execute_result"
    }
   ],
   "source": [
    "treatments = list(set(['_'.join(c.split('_')[7:9]) for c in data[cpd_id]['peak_height'].columns if 'D48' in c]))\n",
    "treatments"
   ]
  },
  {
   "cell_type": "code",
   "execution_count": 42,
   "metadata": {},
   "outputs": [
    {
     "data": {
      "text/plain": [
       "[u'D14', u'D30', u'D48', u'D6', u'D3', u'D1']"
      ]
     },
     "execution_count": 42,
     "metadata": {},
     "output_type": "execute_result"
    }
   ],
   "source": [
    "time_points = []\n",
    "for c in data[cpd_id]['peak_height'].columns:\n",
    "    try:\n",
    "        found = re.search('_D\\d+_', c).group()\n",
    "        time_points.append(found.strip('_'))\n",
    "    except AttributeError:\n",
    "        pass\n",
    "time_points = list(set(time_points))\n",
    "time_points"
   ]
  },
  {
   "cell_type": "code",
   "execution_count": 10,
   "metadata": {},
   "outputs": [
    {
     "data": {
      "text/plain": [
       "[u'12C_con_D48',\n",
       " u'13C_Pal_D48',\n",
       " u'13C_Cel_D48',\n",
       " u'H2O_con_D48',\n",
       " u'13C_Van_D48']"
      ]
     },
     "execution_count": 10,
     "metadata": {},
     "output_type": "execute_result"
    }
   ],
   "source": [
    "groups = list(set(['_'.join(c.split('_')[7:10]) for c in data[cpd_id]['peak_height'].columns if 'D48' in c]))\n",
    "groups"
   ]
  },
  {
   "cell_type": "code",
   "execution_count": 11,
   "metadata": {},
   "outputs": [
    {
     "data": {
      "text/plain": [
       "mz\n",
       "147p1128    870130.437500\n",
       "148p1162     56566.234375\n",
       "149p1195      5923.273315\n",
       "150p1229      1014.861206\n",
       "151p1262         0.000000\n",
       "152p1296     16176.509766\n",
       "153p1329      1269.669434\n",
       "dtype: float64"
      ]
     },
     "execution_count": 11,
     "metadata": {},
     "output_type": "execute_result"
    }
   ],
   "source": [
    "peak_height = data[cpd_id]['peak_height']\n",
    "control = peak_height[[c for c in peak_height.columns if groups[0] in c]].mean(axis=1)\n",
    "control"
   ]
  },
  {
   "cell_type": "code",
   "execution_count": 12,
   "metadata": {},
   "outputs": [
    {
     "data": {
      "text/plain": [
       "mz\n",
       "147p1128    738767.677083\n",
       "148p1162     52596.792969\n",
       "149p1195      9509.240885\n",
       "150p1229      1036.475342\n",
       "151p1262      1257.195516\n",
       "152p1296     16633.710938\n",
       "153p1329       743.332275\n",
       "dtype: float64"
      ]
     },
     "execution_count": 12,
     "metadata": {},
     "output_type": "execute_result"
    }
   ],
   "source": [
    "labeled = peak_height[[c for c in peak_height.columns if groups[2] in c]].mean(axis=1)\n",
    "labeled"
   ]
  },
  {
   "cell_type": "code",
   "execution_count": 13,
   "metadata": {},
   "outputs": [
    {
     "data": {
      "text/plain": [
       "mz\n",
       "147p1128   -131362.760417\n",
       "148p1162     -3969.441406\n",
       "149p1195      3585.967570\n",
       "150p1229        21.614136\n",
       "151p1262      1257.195516\n",
       "152p1296       457.201172\n",
       "153p1329      -526.337158\n",
       "dtype: float64"
      ]
     },
     "execution_count": 13,
     "metadata": {},
     "output_type": "execute_result"
    }
   ],
   "source": [
    "labeled - control"
   ]
  },
  {
   "cell_type": "code",
   "execution_count": 14,
   "metadata": {},
   "outputs": [
    {
     "data": {
      "text/html": [
       "<div>\n",
       "<style scoped>\n",
       "    .dataframe tbody tr th:only-of-type {\n",
       "        vertical-align: middle;\n",
       "    }\n",
       "\n",
       "    .dataframe tbody tr th {\n",
       "        vertical-align: top;\n",
       "    }\n",
       "\n",
       "    .dataframe thead th {\n",
       "        text-align: right;\n",
       "    }\n",
       "</style>\n",
       "<table border=\"1\" class=\"dataframe\">\n",
       "  <thead>\n",
       "    <tr style=\"text-align: right;\">\n",
       "      <th></th>\n",
       "      <th>12C_con_D48</th>\n",
       "      <th>13C_Cel_D48</th>\n",
       "      <th>13C_Pal_D48</th>\n",
       "      <th>13C_Van_D48</th>\n",
       "      <th>H2O_con_D48</th>\n",
       "    </tr>\n",
       "    <tr>\n",
       "      <th>mz</th>\n",
       "      <th></th>\n",
       "      <th></th>\n",
       "      <th></th>\n",
       "      <th></th>\n",
       "      <th></th>\n",
       "    </tr>\n",
       "  </thead>\n",
       "  <tbody>\n",
       "    <tr>\n",
       "      <th>147p1128</th>\n",
       "      <td>870130.437500</td>\n",
       "      <td>738767.677083</td>\n",
       "      <td>1.017697e+06</td>\n",
       "      <td>807535.562500</td>\n",
       "      <td>482432.500000</td>\n",
       "    </tr>\n",
       "    <tr>\n",
       "      <th>148p1162</th>\n",
       "      <td>56566.234375</td>\n",
       "      <td>52596.792969</td>\n",
       "      <td>7.030222e+04</td>\n",
       "      <td>51074.240885</td>\n",
       "      <td>34027.096354</td>\n",
       "    </tr>\n",
       "    <tr>\n",
       "      <th>149p1195</th>\n",
       "      <td>5923.273315</td>\n",
       "      <td>9509.240885</td>\n",
       "      <td>1.283069e+04</td>\n",
       "      <td>6811.392171</td>\n",
       "      <td>5410.415771</td>\n",
       "    </tr>\n",
       "    <tr>\n",
       "      <th>150p1229</th>\n",
       "      <td>1014.861206</td>\n",
       "      <td>1036.475342</td>\n",
       "      <td>9.736336e+02</td>\n",
       "      <td>0.000000</td>\n",
       "      <td>0.000000</td>\n",
       "    </tr>\n",
       "    <tr>\n",
       "      <th>151p1262</th>\n",
       "      <td>0.000000</td>\n",
       "      <td>1257.195516</td>\n",
       "      <td>0.000000e+00</td>\n",
       "      <td>1351.055013</td>\n",
       "      <td>2449.941243</td>\n",
       "    </tr>\n",
       "    <tr>\n",
       "      <th>152p1296</th>\n",
       "      <td>16176.509766</td>\n",
       "      <td>16633.710938</td>\n",
       "      <td>1.615290e+04</td>\n",
       "      <td>15990.358724</td>\n",
       "      <td>22510.484375</td>\n",
       "    </tr>\n",
       "    <tr>\n",
       "      <th>153p1329</th>\n",
       "      <td>1269.669434</td>\n",
       "      <td>743.332275</td>\n",
       "      <td>0.000000e+00</td>\n",
       "      <td>864.773844</td>\n",
       "      <td>1387.787109</td>\n",
       "    </tr>\n",
       "  </tbody>\n",
       "</table>\n",
       "</div>"
      ],
      "text/plain": [
       "            12C_con_D48    13C_Cel_D48   13C_Pal_D48    13C_Van_D48  \\\n",
       "mz                                                                    \n",
       "147p1128  870130.437500  738767.677083  1.017697e+06  807535.562500   \n",
       "148p1162   56566.234375   52596.792969  7.030222e+04   51074.240885   \n",
       "149p1195    5923.273315    9509.240885  1.283069e+04    6811.392171   \n",
       "150p1229    1014.861206    1036.475342  9.736336e+02       0.000000   \n",
       "151p1262       0.000000    1257.195516  0.000000e+00    1351.055013   \n",
       "152p1296   16176.509766   16633.710938  1.615290e+04   15990.358724   \n",
       "153p1329    1269.669434     743.332275  0.000000e+00     864.773844   \n",
       "\n",
       "            H2O_con_D48  \n",
       "mz                       \n",
       "147p1128  482432.500000  \n",
       "148p1162   34027.096354  \n",
       "149p1195    5410.415771  \n",
       "150p1229       0.000000  \n",
       "151p1262    2449.941243  \n",
       "152p1296   22510.484375  \n",
       "153p1329    1387.787109  "
      ]
     },
     "execution_count": 14,
     "metadata": {},
     "output_type": "execute_result"
    }
   ],
   "source": [
    "diff_data = {}\n",
    "for g in groups:\n",
    "    sub_data = peak_height[[c for c in peak_height.columns if g in c]].mean(axis=1)\n",
    "    diff_data[g] = sub_data\n",
    "df = pd.DataFrame(diff_data)\n",
    "df"
   ]
  },
  {
   "cell_type": "code",
   "execution_count": 48,
   "metadata": {
    "scrolled": false
   },
   "outputs": [],
   "source": [
    "plt.ioff()\n",
    "for time_point in time_points:\n",
    "    folder_name = 'isotope_figs'\n",
    "    if not os.path.isdir(folder_name):\n",
    "        os.mkdir(folder_name)\n",
    "    for cpd_id in range(len(data)):\n",
    "        peak_height = data[cpd_id]['peak_height']\n",
    "        diff_data = {}\n",
    "        fig = plt.figure()\n",
    "        ax = fig.gca()\n",
    "        for treatment in treatments:\n",
    "            g = '%s_%s'%(treatment,time_point)\n",
    "            sub_data = peak_height[[c for c in peak_height.columns if g in c]].mean(axis=1)\n",
    "            diff_data[g] = sub_data\n",
    "        df = pd.DataFrame(diff_data)\n",
    "        df.index = [d.replace('p','.') for d in df.index]\n",
    "        df[:-1].plot(kind='bar',ax=ax) #drop the unnecessary last ion\n",
    "        plt.title(data[cpd_id]['compound'],fontsize=18)\n",
    "        ax.set_yscale('log')\n",
    "        plt.ylabel('Peak Height (au)')\n",
    "        plt.xlabel('m/z')\n",
    "        plt.tight_layout()\n",
    "        fig.savefig(os.path.join(folder_name,'%s_%s.pdf'%(data[cpd_id]['compound'],time_point)))\n",
    "        fig.clear()\n",
    "plt.ion()"
   ]
  },
  {
   "cell_type": "code",
   "execution_count": null,
   "metadata": {},
   "outputs": [],
   "source": []
  }
 ],
 "metadata": {
  "kernelspec": {
   "display_name": "Python 2",
   "language": "python",
   "name": "python2"
  },
  "language_info": {
   "codemirror_mode": {
    "name": "ipython",
    "version": 2
   },
   "file_extension": ".py",
   "mimetype": "text/x-python",
   "name": "python",
   "nbconvert_exporter": "python",
   "pygments_lexer": "ipython2",
   "version": "2.7.14"
  }
 },
 "nbformat": 4,
 "nbformat_minor": 2
}
