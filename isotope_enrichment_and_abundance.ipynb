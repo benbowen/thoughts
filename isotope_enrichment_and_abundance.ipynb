{
 "cells": [
  {
   "cell_type": "code",
   "execution_count": 1,
   "metadata": {},
   "outputs": [],
   "source": [
    "%matplotlib notebook\n",
    "import dill\n",
    "import pandas as pd\n",
    "import matplotlib.pyplot as plt\n",
    "import os\n",
    "import re"
   ]
  },
  {
   "cell_type": "code",
   "execution_count": 2,
   "metadata": {},
   "outputs": [],
   "source": [
    "\n",
    "filename = '/Users/bpb/Downloads/Archive (1)/positive_mode_isotope_data.pkl'\n",
    "with open(filename,'rb') as fid:\n",
    "    data = dill.load(fid)"
   ]
  },
  {
   "cell_type": "code",
   "execution_count": 3,
   "metadata": {},
   "outputs": [],
   "source": [
    "for i,d in enumerate(data):\n",
    "    data[i]['rt_peak'] = pd.DataFrame(data[i]['rt_peak'])\n",
    "    data[i]['peak_height'] = pd.DataFrame(data[i]['peak_height'])"
   ]
  },
  {
   "cell_type": "code",
   "execution_count": 4,
   "metadata": {
    "scrolled": false
   },
   "outputs": [
    {
     "data": {
      "text/plain": [
       "[u'100_13C_Oxa_D3_1_POS_146.h5',\n",
       " u'101_13C_Oxa_D3_2_POS_210.h5',\n",
       " u'102_13C_Oxa_D3_3_POS_181.h5',\n",
       " u'103_13C_Oxa_D6_1_POS_284.h5',\n",
       " u'104_13C_Oxa_D6_2_POS_34.h5',\n",
       " u'105_13C_Oxa_D6_3_POS_267.h5',\n",
       " u'106_13C_Oxa_D14_1_POS_100.h5',\n",
       " u'107_13C_Oxa_D14_2_POS_126.h5',\n",
       " u'108_13C_Oxa_D14_3_POS_161.h5',\n",
       " u'109_ext_blank_1_POS_B_386.h5',\n",
       " u'10_12C_con_D6_1_POS_08.h5',\n",
       " u'110_ext_blank_2_POS_204.h5',\n",
       " u'11_12C_con_D6_2_POS_264.h5',\n",
       " u'12_12C_con_D6_3_POS_215.h5',\n",
       " u'13_12C_con_D14_1_POS_37.h5',\n",
       " u'14_12C_con_D14_2_POS_363.h5',\n",
       " u'15_12C_con_D14_3_POS_63.h5',\n",
       " u'16_12C_con_D30_1_POS_276.h5',\n",
       " u'17_12C_con_D30_2_POS_20.h5',\n",
       " u'18_12C_con_D30_3_POS_B_369.h5',\n",
       " u'19_12C_con_D48_1_POS_95.h5',\n",
       " u'1_H2O_con_D48_1_POS_66.h5',\n",
       " u'20_12C_con_D48_2_POS_218.h5',\n",
       " u'22_13C_Cel_D3_1_POS_290.h5',\n",
       " u'23_13C_Cel_D6_1_POS_270.h5',\n",
       " u'24_13C_Cel_D6_2_POS_273.h5',\n",
       " u'25_13C_Cel_D6_3_POS_89.h5',\n",
       " u'26_13C_Cel_D14_1_POS_230.h5',\n",
       " u'27_13C_Cel_D14_2_POS_72.h5',\n",
       " u'28_13C_Cel_D14_3_POS_31.h5',\n",
       " u'29_13C_Cel_D30_1_POS_149.h5',\n",
       " u'2_H2O_con_D48_2_POS_261.h5',\n",
       " u'30_13C_Cel_D30_2_POS_106.h5',\n",
       " u'31_13C_Cel_D30_3_POS_43.h5',\n",
       " u'32_13C_Cel_D48_1_POS_141.h5',\n",
       " u'33_13C_Cel_D48_2_POS_164.h5',\n",
       " u'34_13C_Cel_D48_3_POS_B_383.h5',\n",
       " u'35_13C_Xyl_D1_1_POS_115.h5',\n",
       " u'36_13C_Xyl_D1_2_POS_B_366.h5',\n",
       " u'37_13C_Xyl_D1_3_POS_158.h5',\n",
       " u'38_13C_Xyl_D3_1_POS_198.h5',\n",
       " u'39_13C_Xyl_D3_2_POS_B_409.h5',\n",
       " u'3_H2O_con_D48_3_POS_46.h5',\n",
       " u'40_13C_Xyl_D3_3_POS_135.h5',\n",
       " u'41_13C_Xyl_D6_1_POS_26.h5',\n",
       " u'42_13C_Xyl_D6_2_POS_132.h5',\n",
       " u'43_13C_Xyl_D6_3_POS_103.h5',\n",
       " u'44_13C_Xyl_D14_1_POS_207.h5',\n",
       " u'45_13C_Glu_D1_1_POS_250.h5',\n",
       " u'46_13C_Glu_D1_2_POS_360.h5',\n",
       " u'47_13C_Glu_D1_3_POS_195.h5',\n",
       " u'48_13C_Glu_D3_1_POS_310.h5',\n",
       " u'49_13C_Glu_D3_2_POS_B_374.h5',\n",
       " u'4_12C_con_D1_1_POS_287.h5',\n",
       " u'50_13C_Glu_D3_3_POS_224.h5',\n",
       " u'51_13C_Glu_D6_1_POS_244.h5',\n",
       " u'52_13C_Glu_D6_2_POS_C_403.h5',\n",
       " u'53_13C_Glu_D6_3_POS_129.h5',\n",
       " u'54_13C_Glu_D14_1_POS_155.h5',\n",
       " u'55_13C_Gly_D1_1_POS_60.h5',\n",
       " u'56_13C_Gly_D1_2_POS_69.h5',\n",
       " u'57_13C_Gly_D1_3_POS_49.h5',\n",
       " u'58_13C_Gly_D3_1_POS_313.h5',\n",
       " u'59_13C_Gly_D3_2_POS_238.h5',\n",
       " u'5_12C_con_D1_2_POS_319.h5',\n",
       " u'60_13C_Gly_D3_3_POS_B_377.h5',\n",
       " u'61_13C_Gly_D6_1_POS_B_392.h5',\n",
       " u'62_13C_Gly_D6_2_POS_241.h5',\n",
       " u'63_13C_Gly_D6_3_POS_92.h5',\n",
       " u'64_13C_Gly_D14_1_POS_54.h5',\n",
       " u'65_13C_Van_D6_1_POS_178.h5',\n",
       " u'66_13C_Van_D6_2_POS_40.h5',\n",
       " u'67_13C_Van_D6_3_POS_80.h5',\n",
       " u'68_13C_Van_D14_1_POS_B_192.h5',\n",
       " u'69_13C_Van_D30_1_POS_152.h5',\n",
       " u'6_12C_con_D1_3_POS_B_389.h5',\n",
       " u'70_13C_Van_D30_2_POS_233.h5',\n",
       " u'71_13C_Van_D30_3_POS_138.h5',\n",
       " u'72_13C_Van_D48_1_POS_253.h5',\n",
       " u'73_13C_Van_D48_2_POS_77.h5',\n",
       " u'74_13C_Van_D48_3_POS_172.h5',\n",
       " u'75_13C_Pal_D6_1_POS_57.h5',\n",
       " u'76_13C_Pal_D6_2_POS_17.h5',\n",
       " u'77_13C_Pal_D6_3_POS_169.h5',\n",
       " u'78_13C_Pal_D14_1_POS_256.h5',\n",
       " u'79_13C_Pal_D30_1_POS_23.h5',\n",
       " u'7_12C_con_D3_1_POS_14.h5',\n",
       " u'80_13C_Pal_D30_2_POS_302.h5',\n",
       " u'81_13C_Pal_D30_3_POS_296.h5',\n",
       " u'82_13C_Pal_D48_1_POS_B_406.h5',\n",
       " u'83_13C_Pal_D48_2_POS_175.h5',\n",
       " u'84_13C_Pal_D48_3_POS_118.h5',\n",
       " u'85_13C_Ami_D1_1_POS_247.h5',\n",
       " u'86_13C_Ami_D1_2_POS_86.h5',\n",
       " u'87_13C_Ami_D1_3_POS_109.h5',\n",
       " u'88_13C_Ami_D3_1_POS_279.h5',\n",
       " u'89_13C_Ami_D3_2_POS_293.h5',\n",
       " u'8_12C_con_D3_2_POS_316.h5',\n",
       " u'90_13C_Ami_D3_3_POS_112.h5',\n",
       " u'91_13C_Ami_D6_1_POS_11.h5',\n",
       " u'92_13C_Ami_D6_2_POS_83.h5',\n",
       " u'93_13C_Ami_D6_3_POS_B_400.h5',\n",
       " u'94_13C_Ami_D14_1_POS_221.h5',\n",
       " u'95_13C_Lac_D1_1_POS_299.h5',\n",
       " u'96_13C_Lac_D3_1_POS_307.h5',\n",
       " u'97_13C_Lac_D6_1_POS_123.h5',\n",
       " u'98_13C_Lac_D6_2_POS_201.h5',\n",
       " u'99_13C_Lac_D6_3_POS_B_380.h5',\n",
       " u'9_12C_con_D3_3_POS_227.h5',\n",
       " u'blank_60_POS_200.h5',\n",
       " u'blank_96_POS_318.h5']"
      ]
     },
     "execution_count": 4,
     "metadata": {},
     "output_type": "execute_result"
    }
   ],
   "source": [
    "[c.replace('20171221_TS_DB_fullcyc_QE144_50454-738379_','') for c in data[0]['rt_peak'].columns.tolist()]"
   ]
  },
  {
   "cell_type": "code",
   "execution_count": 5,
   "metadata": {},
   "outputs": [
    {
     "data": {
      "text/plain": [
       "[(0, [u'glycocyamine', 0]),\n",
       " (1, [u'D-Glucosamine', 1]),\n",
       " (2, [u'L-Allothreonine', 2]),\n",
       " (3, [u'creatinine', 3]),\n",
       " (4, [u'N-Acetylneuraminic_Acid', 4]),\n",
       " (5, [u'2-Aminoisobutyric_acid', 5]),\n",
       " (6, [u'1-Aminocyclopropanecarboxylic_acid', 6]),\n",
       " (7, [u'dl-3-Aminoisobutyric_acid', 7]),\n",
       " (8, [u'5-Aminovaleric_acid', 8]),\n",
       " (9, [u'L-ornithine', 9]),\n",
       " (10, [u'xanthosine', 10]),\n",
       " (11, [u'L-2-Aminoadipic_acid', 11]),\n",
       " (12, [u'2deoxycytidine', 12]),\n",
       " (13, [u'L-arabitol', 13]),\n",
       " (14, [u'14289-34-0', 14]),\n",
       " (15, [u'3-carboxy-1-methylpyridinium', 15]),\n",
       " (16, [u'L-glutamine', 16]),\n",
       " (17, [u'L-threonine', 17]),\n",
       " (18, [u'Imidazole-4-acetic_acid', 18]),\n",
       " (19, [u'2deoxyadenosine', 19]),\n",
       " (20, [u'creatine', 20]),\n",
       " (21, [u'ectoine', 21]),\n",
       " (22, [u'L-tyrosine', 22]),\n",
       " (23, [u'cytidine', 23]),\n",
       " (24, [u'L-citrulline', 24]),\n",
       " (25, [u'nicotinamide', 25]),\n",
       " (26, [u'2deoxyguanosine', 26]),\n",
       " (27, [u'adenosine', 27]),\n",
       " (28, [u'4-aminobutyric_acid', 28]),\n",
       " (29, [u'L-methionine', 29]),\n",
       " (30, [u'L-lysine', 30]),\n",
       " (31, [u'cytosine', 31]),\n",
       " (32, [u'TRIMETHYL_GLYCINE', 32]),\n",
       " (33, [u'guanine', 33]),\n",
       " (34, [u'L-arginine', 34]),\n",
       " (35, [u'Pterin', 35]),\n",
       " (36, [u'Glycerophosphocholine', 36]),\n",
       " (37, [u'L-phenylalanine', 37]),\n",
       " (38, [u'gamma-butyrobetaine', 38]),\n",
       " (39, [u'guanosine', 39]),\n",
       " (40, [u'4-Guanidinobutyric_acid', 40]),\n",
       " (41, [u'L-serine', 41]),\n",
       " (42, [u'adenine', 42]),\n",
       " (43, [u'l-Pipecolic_acid', 43]),\n",
       " (44, [u'hypoxanthine', 44]),\n",
       " (45, [u'L-proline', 45]),\n",
       " (46, [u'inosine', 46]),\n",
       " (47, [u'L-threonic_acid', 47]),\n",
       " (48, [u'L-tryptophan', 48]),\n",
       " (49, [u'1-Methyladenosine', 49]),\n",
       " (50, [u'dTDP-alpha-D-glucose', 50]),\n",
       " (51, [u'glycine', 51]),\n",
       " (52, [u'hypotaurine', 52]),\n",
       " (53, [u'Glycine_N-imino_phosphonoamino', 53]),\n",
       " (54, [u'Untitled', 54]),\n",
       " (55, [u'L-Gulonolactone', 55]),\n",
       " (56, [u'pyrocatechol', 56]),\n",
       " (57, [u'L-histidine', 57]),\n",
       " (58, [u'pimelic_acid', 58]),\n",
       " (59, [u'99-98-9', 59]),\n",
       " (60, [u'L-Carnosine', 60])]"
      ]
     },
     "execution_count": 5,
     "metadata": {},
     "output_type": "execute_result"
    }
   ],
   "source": [
    "[(i,d['compound']) for i,d in enumerate(data)]"
   ]
  },
  {
   "cell_type": "code",
   "execution_count": 6,
   "metadata": {},
   "outputs": [],
   "source": [
    "cpd_id = 30"
   ]
  },
  {
   "cell_type": "code",
   "execution_count": 7,
   "metadata": {},
   "outputs": [
    {
     "data": {
      "text/plain": [
       "61"
      ]
     },
     "execution_count": 7,
     "metadata": {},
     "output_type": "execute_result"
    }
   ],
   "source": [
    "len(data)"
   ]
  },
  {
   "cell_type": "code",
   "execution_count": 8,
   "metadata": {},
   "outputs": [
    {
     "data": {
      "text/plain": [
       "['rt_peak', 'peak_height', 'compound']"
      ]
     },
     "execution_count": 8,
     "metadata": {},
     "output_type": "execute_result"
    }
   ],
   "source": [
    "data[cpd_id].keys()"
   ]
  },
  {
   "cell_type": "code",
   "execution_count": 9,
   "metadata": {},
   "outputs": [
    {
     "data": {
      "text/plain": [
       "[u'L-lysine', 30]"
      ]
     },
     "execution_count": 9,
     "metadata": {},
     "output_type": "execute_result"
    }
   ],
   "source": [
    "data[cpd_id]['compound']"
   ]
  },
  {
   "cell_type": "code",
   "execution_count": 10,
   "metadata": {},
   "outputs": [
    {
     "data": {
      "text/plain": [
       "Index([u'20171221_TS_DB_fullcyc_QE144_50454-738379_100_13C_Oxa_D3_1_POS_146.h5',\n",
       "       u'20171221_TS_DB_fullcyc_QE144_50454-738379_101_13C_Oxa_D3_2_POS_210.h5',\n",
       "       u'20171221_TS_DB_fullcyc_QE144_50454-738379_102_13C_Oxa_D3_3_POS_181.h5'],\n",
       "      dtype='object')"
      ]
     },
     "execution_count": 10,
     "metadata": {},
     "output_type": "execute_result"
    }
   ],
   "source": [
    "data[cpd_id]['rt_peak'].columns[:3]"
   ]
  },
  {
   "cell_type": "code",
   "execution_count": 11,
   "metadata": {},
   "outputs": [
    {
     "data": {
      "text/plain": [
       "Index([u'20171221_TS_DB_fullcyc_QE144_50454-738379_100_13C_Oxa_D3_1_POS_146.h5',\n",
       "       u'20171221_TS_DB_fullcyc_QE144_50454-738379_101_13C_Oxa_D3_2_POS_210.h5',\n",
       "       u'20171221_TS_DB_fullcyc_QE144_50454-738379_102_13C_Oxa_D3_3_POS_181.h5'],\n",
       "      dtype='object')"
      ]
     },
     "execution_count": 11,
     "metadata": {},
     "output_type": "execute_result"
    }
   ],
   "source": [
    "data[cpd_id]['peak_height'].columns[:3]"
   ]
  },
  {
   "cell_type": "code",
   "execution_count": 12,
   "metadata": {},
   "outputs": [
    {
     "data": {
      "text/plain": [
       "[u'13C_Ami',\n",
       " u'13C_Glu',\n",
       " u'13C_Lac',\n",
       " u'60_POS',\n",
       " u'H2O_con',\n",
       " u'13C_Xyl',\n",
       " u'96_POS',\n",
       " u'13C_Pal',\n",
       " u'12C_con',\n",
       " u'13C_Gly',\n",
       " u'13C_Cel',\n",
       " u'13C_Oxa',\n",
       " u'13C_Van',\n",
       " u'ext_blank']"
      ]
     },
     "execution_count": 12,
     "metadata": {},
     "output_type": "execute_result"
    }
   ],
   "source": [
    "treatments = list(set(['_'.join(c.split('_')[7:9]) for c in data[cpd_id]['peak_height'].columns if 'D' in c]))\n",
    "treatments"
   ]
  },
  {
   "cell_type": "code",
   "execution_count": 13,
   "metadata": {},
   "outputs": [
    {
     "data": {
      "text/plain": [
       "[u'D14', u'D30', u'D48', u'D6', u'D3', u'D1']"
      ]
     },
     "execution_count": 13,
     "metadata": {},
     "output_type": "execute_result"
    }
   ],
   "source": [
    "time_points = []\n",
    "for c in data[cpd_id]['peak_height'].columns:\n",
    "    try:\n",
    "        found = re.search('_D\\d+_', c).group()\n",
    "        time_points.append(found.strip('_'))\n",
    "    except AttributeError:\n",
    "        pass\n",
    "time_points = list(set(time_points))\n",
    "time_points"
   ]
  },
  {
   "cell_type": "code",
   "execution_count": 14,
   "metadata": {},
   "outputs": [
    {
     "data": {
      "text/plain": [
       "[u'13C_Pal_D48',\n",
       " u'13C_Van_D48',\n",
       " u'13C_Cel_D48',\n",
       " u'H2O_con_D48',\n",
       " u'12C_con_D48']"
      ]
     },
     "execution_count": 14,
     "metadata": {},
     "output_type": "execute_result"
    }
   ],
   "source": [
    "groups = list(set(['_'.join(c.split('_')[7:10]) for c in data[cpd_id]['peak_height'].columns if 'D48' in c]))\n",
    "groups"
   ]
  },
  {
   "cell_type": "code",
   "execution_count": 15,
   "metadata": {},
   "outputs": [
    {
     "data": {
      "text/plain": [
       "147.1128    1.017697e+06\n",
       "148.1162    7.030222e+04\n",
       "149.1195    1.283069e+04\n",
       "150.1229    9.736336e+02\n",
       "151.1262    0.000000e+00\n",
       "152.1296    1.615290e+04\n",
       "153.1329    0.000000e+00\n",
       "dtype: float64"
      ]
     },
     "execution_count": 15,
     "metadata": {},
     "output_type": "execute_result"
    }
   ],
   "source": [
    "peak_height = data[cpd_id]['peak_height']\n",
    "control = peak_height[[c for c in peak_height.columns if groups[0] in c]].mean(axis=1)\n",
    "control"
   ]
  },
  {
   "cell_type": "code",
   "execution_count": 16,
   "metadata": {},
   "outputs": [
    {
     "data": {
      "text/plain": [
       "147.1128    738767.677083\n",
       "148.1162     52596.792969\n",
       "149.1195      9509.240885\n",
       "150.1229      1036.475342\n",
       "151.1262      1257.195516\n",
       "152.1296     16633.710938\n",
       "153.1329       743.332275\n",
       "dtype: float64"
      ]
     },
     "execution_count": 16,
     "metadata": {},
     "output_type": "execute_result"
    }
   ],
   "source": [
    "labeled = peak_height[[c for c in peak_height.columns if groups[2] in c]].mean(axis=1)\n",
    "labeled"
   ]
  },
  {
   "cell_type": "code",
   "execution_count": null,
   "metadata": {},
   "outputs": [],
   "source": [
    "labeled - control"
   ]
  },
  {
   "cell_type": "code",
   "execution_count": 17,
   "metadata": {},
   "outputs": [
    {
     "data": {
      "text/html": [
       "<div>\n",
       "<style scoped>\n",
       "    .dataframe tbody tr th:only-of-type {\n",
       "        vertical-align: middle;\n",
       "    }\n",
       "\n",
       "    .dataframe tbody tr th {\n",
       "        vertical-align: top;\n",
       "    }\n",
       "\n",
       "    .dataframe thead th {\n",
       "        text-align: right;\n",
       "    }\n",
       "</style>\n",
       "<table border=\"1\" class=\"dataframe\">\n",
       "  <thead>\n",
       "    <tr style=\"text-align: right;\">\n",
       "      <th></th>\n",
       "      <th>12C_con_D48</th>\n",
       "      <th>13C_Cel_D48</th>\n",
       "      <th>13C_Pal_D48</th>\n",
       "      <th>13C_Van_D48</th>\n",
       "      <th>H2O_con_D48</th>\n",
       "    </tr>\n",
       "  </thead>\n",
       "  <tbody>\n",
       "    <tr>\n",
       "      <th>147.1128</th>\n",
       "      <td>870130.437500</td>\n",
       "      <td>738767.677083</td>\n",
       "      <td>1.017697e+06</td>\n",
       "      <td>807535.562500</td>\n",
       "      <td>482432.500000</td>\n",
       "    </tr>\n",
       "    <tr>\n",
       "      <th>148.1162</th>\n",
       "      <td>56566.234375</td>\n",
       "      <td>52596.792969</td>\n",
       "      <td>7.030222e+04</td>\n",
       "      <td>51074.240885</td>\n",
       "      <td>34027.096354</td>\n",
       "    </tr>\n",
       "    <tr>\n",
       "      <th>149.1195</th>\n",
       "      <td>5923.273315</td>\n",
       "      <td>9509.240885</td>\n",
       "      <td>1.283069e+04</td>\n",
       "      <td>6811.392171</td>\n",
       "      <td>5410.415771</td>\n",
       "    </tr>\n",
       "    <tr>\n",
       "      <th>150.1229</th>\n",
       "      <td>1014.861206</td>\n",
       "      <td>1036.475342</td>\n",
       "      <td>9.736336e+02</td>\n",
       "      <td>0.000000</td>\n",
       "      <td>0.000000</td>\n",
       "    </tr>\n",
       "    <tr>\n",
       "      <th>151.1262</th>\n",
       "      <td>0.000000</td>\n",
       "      <td>1257.195516</td>\n",
       "      <td>0.000000e+00</td>\n",
       "      <td>1351.055013</td>\n",
       "      <td>2449.941243</td>\n",
       "    </tr>\n",
       "    <tr>\n",
       "      <th>152.1296</th>\n",
       "      <td>16176.509766</td>\n",
       "      <td>16633.710938</td>\n",
       "      <td>1.615290e+04</td>\n",
       "      <td>15990.358724</td>\n",
       "      <td>22510.484375</td>\n",
       "    </tr>\n",
       "    <tr>\n",
       "      <th>153.1329</th>\n",
       "      <td>1269.669434</td>\n",
       "      <td>743.332275</td>\n",
       "      <td>0.000000e+00</td>\n",
       "      <td>864.773844</td>\n",
       "      <td>1387.787109</td>\n",
       "    </tr>\n",
       "  </tbody>\n",
       "</table>\n",
       "</div>"
      ],
      "text/plain": [
       "            12C_con_D48    13C_Cel_D48   13C_Pal_D48    13C_Van_D48  \\\n",
       "147.1128  870130.437500  738767.677083  1.017697e+06  807535.562500   \n",
       "148.1162   56566.234375   52596.792969  7.030222e+04   51074.240885   \n",
       "149.1195    5923.273315    9509.240885  1.283069e+04    6811.392171   \n",
       "150.1229    1014.861206    1036.475342  9.736336e+02       0.000000   \n",
       "151.1262       0.000000    1257.195516  0.000000e+00    1351.055013   \n",
       "152.1296   16176.509766   16633.710938  1.615290e+04   15990.358724   \n",
       "153.1329    1269.669434     743.332275  0.000000e+00     864.773844   \n",
       "\n",
       "            H2O_con_D48  \n",
       "147.1128  482432.500000  \n",
       "148.1162   34027.096354  \n",
       "149.1195    5410.415771  \n",
       "150.1229       0.000000  \n",
       "151.1262    2449.941243  \n",
       "152.1296   22510.484375  \n",
       "153.1329    1387.787109  "
      ]
     },
     "execution_count": 17,
     "metadata": {},
     "output_type": "execute_result"
    }
   ],
   "source": [
    "diff_data = {}\n",
    "for g in groups:\n",
    "    sub_data = peak_height[[c for c in peak_height.columns if g in c]].mean(axis=1)\n",
    "    diff_data[g] = sub_data\n",
    "df = pd.DataFrame(diff_data)\n",
    "df"
   ]
  },
  {
   "cell_type": "code",
   "execution_count": 19,
   "metadata": {
    "scrolled": false
   },
   "outputs": [],
   "source": [
    "plt.ioff()\n",
    "for time_point in time_points:\n",
    "    folder_name = '/Users/bpb/Downloads/20190131_isotopefigs'\n",
    "    if not os.path.isdir(folder_name):\n",
    "        os.mkdir(folder_name)\n",
    "    for cpd_id in range(len(data)):\n",
    "        peak_height = data[cpd_id]['peak_height']\n",
    "        diff_data = {}\n",
    "        fig = plt.figure()\n",
    "        ax = fig.gca()\n",
    "        for treatment in treatments:\n",
    "            g = '%s_%s'%(treatment,time_point)\n",
    "            sub_data = peak_height[[c for c in peak_height.columns if g in c]].mean(axis=1)\n",
    "            diff_data[g] = sub_data\n",
    "        df = pd.DataFrame(diff_data)\n",
    "        df.index = [d.replace('p','.') for d in df.index]\n",
    "        df[:-1].plot(kind='bar',ax=ax) #drop the unnecessary last ion\n",
    "        plt.title(data[cpd_id]['compound'],fontsize=18)\n",
    "        ax.set_yscale('log')\n",
    "        plt.ylabel('Peak Height (au)')\n",
    "        plt.xlabel('m/z')\n",
    "        plt.tight_layout()\n",
    "        fig.savefig(os.path.join(folder_name,'%s_%s.pdf'%(data[cpd_id]['compound'],time_point)))\n",
    "        fig.clear()\n",
    "        plt.close('all')\n",
    "plt.ion()"
   ]
  },
  {
   "cell_type": "code",
   "execution_count": 27,
   "metadata": {},
   "outputs": [
    {
     "data": {
      "text/plain": [
       "u'L-Carnosine'"
      ]
     },
     "execution_count": 27,
     "metadata": {},
     "output_type": "execute_result"
    }
   ],
   "source": [
    "data[cpd_id]['compound'][0]"
   ]
  },
  {
   "cell_type": "code",
   "execution_count": 38,
   "metadata": {},
   "outputs": [
    {
     "data": {
      "text/html": [
       "<div>\n",
       "<style scoped>\n",
       "    .dataframe tbody tr th:only-of-type {\n",
       "        vertical-align: middle;\n",
       "    }\n",
       "\n",
       "    .dataframe tbody tr th {\n",
       "        vertical-align: top;\n",
       "    }\n",
       "\n",
       "    .dataframe thead th {\n",
       "        text-align: right;\n",
       "    }\n",
       "</style>\n",
       "<table border=\"1\" class=\"dataframe\">\n",
       "  <thead>\n",
       "    <tr style=\"text-align: right;\">\n",
       "      <th></th>\n",
       "      <th>m/z</th>\n",
       "      <th>20171221_TS_DB_fullcyc_QE144_50454-738379_100_13C_Oxa_D3_1_POS_146.h5</th>\n",
       "      <th>20171221_TS_DB_fullcyc_QE144_50454-738379_101_13C_Oxa_D3_2_POS_210.h5</th>\n",
       "      <th>20171221_TS_DB_fullcyc_QE144_50454-738379_102_13C_Oxa_D3_3_POS_181.h5</th>\n",
       "      <th>20171221_TS_DB_fullcyc_QE144_50454-738379_103_13C_Oxa_D6_1_POS_284.h5</th>\n",
       "      <th>20171221_TS_DB_fullcyc_QE144_50454-738379_104_13C_Oxa_D6_2_POS_34.h5</th>\n",
       "      <th>20171221_TS_DB_fullcyc_QE144_50454-738379_105_13C_Oxa_D6_3_POS_267.h5</th>\n",
       "      <th>20171221_TS_DB_fullcyc_QE144_50454-738379_106_13C_Oxa_D14_1_POS_100.h5</th>\n",
       "      <th>20171221_TS_DB_fullcyc_QE144_50454-738379_107_13C_Oxa_D14_2_POS_126.h5</th>\n",
       "      <th>20171221_TS_DB_fullcyc_QE144_50454-738379_108_13C_Oxa_D14_3_POS_161.h5</th>\n",
       "      <th>...</th>\n",
       "      <th>20171221_TS_DB_fullcyc_QE144_50454-738379_96_13C_Lac_D3_1_POS_307.h5</th>\n",
       "      <th>20171221_TS_DB_fullcyc_QE144_50454-738379_97_13C_Lac_D6_1_POS_123.h5</th>\n",
       "      <th>20171221_TS_DB_fullcyc_QE144_50454-738379_98_13C_Lac_D6_2_POS_201.h5</th>\n",
       "      <th>20171221_TS_DB_fullcyc_QE144_50454-738379_99_13C_Lac_D6_3_POS_B_380.h5</th>\n",
       "      <th>20171221_TS_DB_fullcyc_QE144_50454-738379_9_12C_con_D3_3_POS_227.h5</th>\n",
       "      <th>20171221_TS_DB_fullcyc_QE144_50454-738379_blank_60_POS_200.h5</th>\n",
       "      <th>20171221_TS_DB_fullcyc_QE144_50454-738379_blank_96_POS_318.h5</th>\n",
       "      <th>original_index</th>\n",
       "      <th>compound</th>\n",
       "      <th>time_point</th>\n",
       "    </tr>\n",
       "  </thead>\n",
       "  <tbody>\n",
       "    <tr>\n",
       "      <th>0</th>\n",
       "      <td>118.0611</td>\n",
       "      <td>82769.3125</td>\n",
       "      <td>59444.644531</td>\n",
       "      <td>103061.703125</td>\n",
       "      <td>36695.691406</td>\n",
       "      <td>104442.390625</td>\n",
       "      <td>30431.396484</td>\n",
       "      <td>63663.945312</td>\n",
       "      <td>57787.003906</td>\n",
       "      <td>65324.449219</td>\n",
       "      <td>...</td>\n",
       "      <td>60036.097656</td>\n",
       "      <td>80161.578125</td>\n",
       "      <td>27808.035156</td>\n",
       "      <td>59547.625</td>\n",
       "      <td>31513.189453</td>\n",
       "      <td>3041.748779</td>\n",
       "      <td>2651.742188</td>\n",
       "      <td>0</td>\n",
       "      <td>glycocyamine</td>\n",
       "      <td>D14</td>\n",
       "    </tr>\n",
       "    <tr>\n",
       "      <th>0</th>\n",
       "      <td>118.0611</td>\n",
       "      <td>82769.3125</td>\n",
       "      <td>59444.644531</td>\n",
       "      <td>103061.703125</td>\n",
       "      <td>36695.691406</td>\n",
       "      <td>104442.390625</td>\n",
       "      <td>30431.396484</td>\n",
       "      <td>63663.945312</td>\n",
       "      <td>57787.003906</td>\n",
       "      <td>65324.449219</td>\n",
       "      <td>...</td>\n",
       "      <td>60036.097656</td>\n",
       "      <td>80161.578125</td>\n",
       "      <td>27808.035156</td>\n",
       "      <td>59547.625</td>\n",
       "      <td>31513.189453</td>\n",
       "      <td>3041.748779</td>\n",
       "      <td>2651.742188</td>\n",
       "      <td>0</td>\n",
       "      <td>glycocyamine</td>\n",
       "      <td>D30</td>\n",
       "    </tr>\n",
       "    <tr>\n",
       "      <th>0</th>\n",
       "      <td>118.0611</td>\n",
       "      <td>82769.3125</td>\n",
       "      <td>59444.644531</td>\n",
       "      <td>103061.703125</td>\n",
       "      <td>36695.691406</td>\n",
       "      <td>104442.390625</td>\n",
       "      <td>30431.396484</td>\n",
       "      <td>63663.945312</td>\n",
       "      <td>57787.003906</td>\n",
       "      <td>65324.449219</td>\n",
       "      <td>...</td>\n",
       "      <td>60036.097656</td>\n",
       "      <td>80161.578125</td>\n",
       "      <td>27808.035156</td>\n",
       "      <td>59547.625</td>\n",
       "      <td>31513.189453</td>\n",
       "      <td>3041.748779</td>\n",
       "      <td>2651.742188</td>\n",
       "      <td>0</td>\n",
       "      <td>glycocyamine</td>\n",
       "      <td>D48</td>\n",
       "    </tr>\n",
       "    <tr>\n",
       "      <th>0</th>\n",
       "      <td>118.0611</td>\n",
       "      <td>82769.3125</td>\n",
       "      <td>59444.644531</td>\n",
       "      <td>103061.703125</td>\n",
       "      <td>36695.691406</td>\n",
       "      <td>104442.390625</td>\n",
       "      <td>30431.396484</td>\n",
       "      <td>63663.945312</td>\n",
       "      <td>57787.003906</td>\n",
       "      <td>65324.449219</td>\n",
       "      <td>...</td>\n",
       "      <td>60036.097656</td>\n",
       "      <td>80161.578125</td>\n",
       "      <td>27808.035156</td>\n",
       "      <td>59547.625</td>\n",
       "      <td>31513.189453</td>\n",
       "      <td>3041.748779</td>\n",
       "      <td>2651.742188</td>\n",
       "      <td>0</td>\n",
       "      <td>glycocyamine</td>\n",
       "      <td>D6</td>\n",
       "    </tr>\n",
       "    <tr>\n",
       "      <th>0</th>\n",
       "      <td>118.0611</td>\n",
       "      <td>82769.3125</td>\n",
       "      <td>59444.644531</td>\n",
       "      <td>103061.703125</td>\n",
       "      <td>36695.691406</td>\n",
       "      <td>104442.390625</td>\n",
       "      <td>30431.396484</td>\n",
       "      <td>63663.945312</td>\n",
       "      <td>57787.003906</td>\n",
       "      <td>65324.449219</td>\n",
       "      <td>...</td>\n",
       "      <td>60036.097656</td>\n",
       "      <td>80161.578125</td>\n",
       "      <td>27808.035156</td>\n",
       "      <td>59547.625</td>\n",
       "      <td>31513.189453</td>\n",
       "      <td>3041.748779</td>\n",
       "      <td>2651.742188</td>\n",
       "      <td>0</td>\n",
       "      <td>glycocyamine</td>\n",
       "      <td>D3</td>\n",
       "    </tr>\n",
       "    <tr>\n",
       "      <th>0</th>\n",
       "      <td>118.0611</td>\n",
       "      <td>82769.3125</td>\n",
       "      <td>59444.644531</td>\n",
       "      <td>103061.703125</td>\n",
       "      <td>36695.691406</td>\n",
       "      <td>104442.390625</td>\n",
       "      <td>30431.396484</td>\n",
       "      <td>63663.945312</td>\n",
       "      <td>57787.003906</td>\n",
       "      <td>65324.449219</td>\n",
       "      <td>...</td>\n",
       "      <td>60036.097656</td>\n",
       "      <td>80161.578125</td>\n",
       "      <td>27808.035156</td>\n",
       "      <td>59547.625</td>\n",
       "      <td>31513.189453</td>\n",
       "      <td>3041.748779</td>\n",
       "      <td>2651.742188</td>\n",
       "      <td>0</td>\n",
       "      <td>glycocyamine</td>\n",
       "      <td>D1</td>\n",
       "    </tr>\n",
       "  </tbody>\n",
       "</table>\n",
       "<p>6 rows × 115 columns</p>\n",
       "</div>"
      ],
      "text/plain": [
       "        m/z  \\\n",
       "0  118.0611   \n",
       "0  118.0611   \n",
       "0  118.0611   \n",
       "0  118.0611   \n",
       "0  118.0611   \n",
       "0  118.0611   \n",
       "\n",
       "   20171221_TS_DB_fullcyc_QE144_50454-738379_100_13C_Oxa_D3_1_POS_146.h5  \\\n",
       "0                                         82769.3125                       \n",
       "0                                         82769.3125                       \n",
       "0                                         82769.3125                       \n",
       "0                                         82769.3125                       \n",
       "0                                         82769.3125                       \n",
       "0                                         82769.3125                       \n",
       "\n",
       "   20171221_TS_DB_fullcyc_QE144_50454-738379_101_13C_Oxa_D3_2_POS_210.h5  \\\n",
       "0                                       59444.644531                       \n",
       "0                                       59444.644531                       \n",
       "0                                       59444.644531                       \n",
       "0                                       59444.644531                       \n",
       "0                                       59444.644531                       \n",
       "0                                       59444.644531                       \n",
       "\n",
       "   20171221_TS_DB_fullcyc_QE144_50454-738379_102_13C_Oxa_D3_3_POS_181.h5  \\\n",
       "0                                      103061.703125                       \n",
       "0                                      103061.703125                       \n",
       "0                                      103061.703125                       \n",
       "0                                      103061.703125                       \n",
       "0                                      103061.703125                       \n",
       "0                                      103061.703125                       \n",
       "\n",
       "   20171221_TS_DB_fullcyc_QE144_50454-738379_103_13C_Oxa_D6_1_POS_284.h5  \\\n",
       "0                                       36695.691406                       \n",
       "0                                       36695.691406                       \n",
       "0                                       36695.691406                       \n",
       "0                                       36695.691406                       \n",
       "0                                       36695.691406                       \n",
       "0                                       36695.691406                       \n",
       "\n",
       "   20171221_TS_DB_fullcyc_QE144_50454-738379_104_13C_Oxa_D6_2_POS_34.h5  \\\n",
       "0                                      104442.390625                      \n",
       "0                                      104442.390625                      \n",
       "0                                      104442.390625                      \n",
       "0                                      104442.390625                      \n",
       "0                                      104442.390625                      \n",
       "0                                      104442.390625                      \n",
       "\n",
       "   20171221_TS_DB_fullcyc_QE144_50454-738379_105_13C_Oxa_D6_3_POS_267.h5  \\\n",
       "0                                       30431.396484                       \n",
       "0                                       30431.396484                       \n",
       "0                                       30431.396484                       \n",
       "0                                       30431.396484                       \n",
       "0                                       30431.396484                       \n",
       "0                                       30431.396484                       \n",
       "\n",
       "   20171221_TS_DB_fullcyc_QE144_50454-738379_106_13C_Oxa_D14_1_POS_100.h5  \\\n",
       "0                                       63663.945312                        \n",
       "0                                       63663.945312                        \n",
       "0                                       63663.945312                        \n",
       "0                                       63663.945312                        \n",
       "0                                       63663.945312                        \n",
       "0                                       63663.945312                        \n",
       "\n",
       "   20171221_TS_DB_fullcyc_QE144_50454-738379_107_13C_Oxa_D14_2_POS_126.h5  \\\n",
       "0                                       57787.003906                        \n",
       "0                                       57787.003906                        \n",
       "0                                       57787.003906                        \n",
       "0                                       57787.003906                        \n",
       "0                                       57787.003906                        \n",
       "0                                       57787.003906                        \n",
       "\n",
       "   20171221_TS_DB_fullcyc_QE144_50454-738379_108_13C_Oxa_D14_3_POS_161.h5  \\\n",
       "0                                       65324.449219                        \n",
       "0                                       65324.449219                        \n",
       "0                                       65324.449219                        \n",
       "0                                       65324.449219                        \n",
       "0                                       65324.449219                        \n",
       "0                                       65324.449219                        \n",
       "\n",
       "      ...      \\\n",
       "0     ...       \n",
       "0     ...       \n",
       "0     ...       \n",
       "0     ...       \n",
       "0     ...       \n",
       "0     ...       \n",
       "\n",
       "   20171221_TS_DB_fullcyc_QE144_50454-738379_96_13C_Lac_D3_1_POS_307.h5  \\\n",
       "0                                       60036.097656                      \n",
       "0                                       60036.097656                      \n",
       "0                                       60036.097656                      \n",
       "0                                       60036.097656                      \n",
       "0                                       60036.097656                      \n",
       "0                                       60036.097656                      \n",
       "\n",
       "   20171221_TS_DB_fullcyc_QE144_50454-738379_97_13C_Lac_D6_1_POS_123.h5  \\\n",
       "0                                       80161.578125                      \n",
       "0                                       80161.578125                      \n",
       "0                                       80161.578125                      \n",
       "0                                       80161.578125                      \n",
       "0                                       80161.578125                      \n",
       "0                                       80161.578125                      \n",
       "\n",
       "   20171221_TS_DB_fullcyc_QE144_50454-738379_98_13C_Lac_D6_2_POS_201.h5  \\\n",
       "0                                       27808.035156                      \n",
       "0                                       27808.035156                      \n",
       "0                                       27808.035156                      \n",
       "0                                       27808.035156                      \n",
       "0                                       27808.035156                      \n",
       "0                                       27808.035156                      \n",
       "\n",
       "   20171221_TS_DB_fullcyc_QE144_50454-738379_99_13C_Lac_D6_3_POS_B_380.h5  \\\n",
       "0                                          59547.625                        \n",
       "0                                          59547.625                        \n",
       "0                                          59547.625                        \n",
       "0                                          59547.625                        \n",
       "0                                          59547.625                        \n",
       "0                                          59547.625                        \n",
       "\n",
       "   20171221_TS_DB_fullcyc_QE144_50454-738379_9_12C_con_D3_3_POS_227.h5  \\\n",
       "0                                       31513.189453                     \n",
       "0                                       31513.189453                     \n",
       "0                                       31513.189453                     \n",
       "0                                       31513.189453                     \n",
       "0                                       31513.189453                     \n",
       "0                                       31513.189453                     \n",
       "\n",
       "   20171221_TS_DB_fullcyc_QE144_50454-738379_blank_60_POS_200.h5  \\\n",
       "0                                        3041.748779               \n",
       "0                                        3041.748779               \n",
       "0                                        3041.748779               \n",
       "0                                        3041.748779               \n",
       "0                                        3041.748779               \n",
       "0                                        3041.748779               \n",
       "\n",
       "   20171221_TS_DB_fullcyc_QE144_50454-738379_blank_96_POS_318.h5  \\\n",
       "0                                        2651.742188               \n",
       "0                                        2651.742188               \n",
       "0                                        2651.742188               \n",
       "0                                        2651.742188               \n",
       "0                                        2651.742188               \n",
       "0                                        2651.742188               \n",
       "\n",
       "   original_index      compound  time_point  \n",
       "0               0  glycocyamine         D14  \n",
       "0               0  glycocyamine         D30  \n",
       "0               0  glycocyamine         D48  \n",
       "0               0  glycocyamine          D6  \n",
       "0               0  glycocyamine          D3  \n",
       "0               0  glycocyamine          D1  \n",
       "\n",
       "[6 rows x 115 columns]"
      ]
     },
     "execution_count": 38,
     "metadata": {},
     "output_type": "execute_result"
    }
   ],
   "source": [
    "df[df['original_index']==0]"
   ]
  },
  {
   "cell_type": "code",
   "execution_count": 51,
   "metadata": {},
   "outputs": [],
   "source": [
    "\n",
    "filename = '/Users/bpb/Downloads/Archive (1)/negative_mode_isotope_data.pkl'\n",
    "with open(filename,'rb') as fid:\n",
    "    data = dill.load(fid)\n",
    "\n",
    "for i,d in enumerate(data):\n",
    "    data[i]['rt_peak'] = pd.DataFrame(data[i]['rt_peak'])\n",
    "    data[i]['peak_height'] = pd.DataFrame(data[i]['peak_height'])\n",
    "    \n",
    "filename = '/Users/bpb/Downloads/Archive (1)/negative_mode_compound_data.pkl'\n",
    "with open(filename,'rb') as fid:\n",
    "    cpd_data = dill.load(fid)\n",
    "\n",
    "all_dfs = []\n",
    "for time_point in time_points:\n",
    "    for cpd_id in range(len(data)):\n",
    "        peak_height = data[cpd_id]['peak_height']\n",
    "        peak_height.index.name='m/z'\n",
    "        peak_height['compound'] = data[cpd_id]['compound'][0]\n",
    "        peak_height['time_point'] = time_point\n",
    "        cpd_dict = cpd_data[peak_height['original_index'].tolist()[0]]\n",
    "        for k,v in cpd_dict.items():\n",
    "            peak_height[k] = v\n",
    "        all_dfs.append(peak_height.reset_index())\n",
    "df = pd.concat(all_dfs)\n",
    "\n",
    "df.to_csv('/Users/bpb/Downloads/neg_mode_isotope_table.csv',index=None)"
   ]
  },
  {
   "cell_type": "code",
   "execution_count": 46,
   "metadata": {},
   "outputs": [],
   "source": []
  },
  {
   "cell_type": "code",
   "execution_count": 47,
   "metadata": {},
   "outputs": [
    {
     "data": {
      "text/plain": [
       "array([u'CHEBI:16344///CHEBI:57742', u'CHEBI:47977///CHEBI:58723',\n",
       "       u'CHEBI:57757///CHEBI:28718///CHEBI:32828///CHEBI:58585',\n",
       "       u'CHEBI:16737', u'CHEBI:17012///CHEBI:35418', u'CHEBI:27971',\n",
       "       u'CHEBI:58360///CHEBI:18053///CHEBI:30526',\n",
       "       u'CHEBI:49096///CHEBI:27389',\n",
       "       u'CHEBI:356010///CHEBI:15887///CHEBI:86394',\n",
       "       u'CHEBI:46911///CHEBI:15729///CHEBI:46914///CHEBI:44667',\n",
       "       u'CHEBI:18107', u'CHEBI:17082///CHEBI:58672///CHEBI:37023',\n",
       "       u'CHEBI:15698', u'CHEBI:18403',\n",
       "       u'CHEBI:47031///CHEBI:16026///CHEBI:57609',\n",
       "       u'CHEBI:18123///CHEBI:50521',\n",
       "       u'CHEBI:18050///CHEBI:32665///CHEBI:32673///CHEBI:58000',\n",
       "       u'CHEBI:32820///CHEBI:16857',\n",
       "       u'CHEBI:70804///CHEBI:16974///CHEBI:57969', u'CHEBI:17256',\n",
       "       u'CHEBI:66924///CHEBI:16919///CHEBI:57947',\n",
       "       u'CHEBI:63475///CHEBI:58515///CHEBI:27592',\n",
       "       u'CHEBI:32775///CHEBI:32760///CHEBI:32761///CHEBI:53696///CHEBI:17895///CHEBI:58570',\n",
       "       u'CHEBI:17562', u'CHEBI:16349', u'CHEBI:17154', u'CHEBI:17172',\n",
       "       u'CHEBI:16335', u'CHEBI:59888///CHEBI:16865///CHEBI:30566',\n",
       "       u'CHEBI:57932///CHEBI:16643///CHEBI:32631///CHEBI:32638',\n",
       "       u'CHEBI:32550///CHEBI:53633///CHEBI:32552///CHEBI:32551///CHEBI:18019',\n",
       "       u'CHEBI:16040', u'CHEBI:17750///CHEBI:91242///CHEBI:41139',\n",
       "       u'CHEBI:16235',\n",
       "       u'CHEBI:32690///CHEBI:32689///CHEBI:16467///CHEBI:32681',\n",
       "       u'CHEBI:44992///CHEBI:37105///CHEBI:18265', u'CHEBI:16870',\n",
       "       u'CHEBI:17295///CHEBI:58095///CHEBI:32495///CHEBI:57981///CHEBI:32486',\n",
       "       u'CHEBI:1941///CHEBI:16244', u'CHEBI:16750',\n",
       "       u'CHEBI:86392///CHEBI:15728///CHEBI:86564///CHEBI:57486',\n",
       "       u'CHEBI:17115///CHEBI:33384///CHEBI:32836///CHEBI:32837',\n",
       "       u'CHEBI:16708', u'CHEBI:30633///CHEBI:61185///CHEBI:30913',\n",
       "       u'CHEBI:17368', u'CHEBI:17203///CHEBI:32864///CHEBI:32862',\n",
       "       u'CHEBI:17596', u'CHEBI:57561///CHEBI:15908',\n",
       "       u'CHEBI:32702///CHEBI:57719///CHEBI:32717///CHEBI:16828///CHEBI:32713',\n",
       "       u'CHEBI:16020', u'CHEBI:15700///CHEBI:57477',\n",
       "       u'CHEBI:32508///CHEBI:57305///CHEBI:15428///CHEBI:32507',\n",
       "       u'CHEBI:57853///CHEBI:16668', u'CHEBI:58092///CHEBI:17287', nan,\n",
       "       u'CHEBI:17587', u'CHEBI:18135///CHEBI:32402///CHEBI:50524',\n",
       "       u'CHEBI:57595///CHEBI:32510///CHEBI:15971',\n",
       "       u'CHEBI:36165///CHEBI:30531///CHEBI:17774', u'CHEBI:15783',\n",
       "       u'CHEBI:15727///CHEBI:57485///CHEBI:66874'], dtype=object)"
      ]
     },
     "execution_count": 47,
     "metadata": {},
     "output_type": "execute_result"
    }
   ],
   "source": [
    "df['chebi_id'].unique()"
   ]
  },
  {
   "cell_type": "code",
   "execution_count": null,
   "metadata": {},
   "outputs": [],
   "source": []
  }
 ],
 "metadata": {
  "kernelspec": {
   "display_name": "Python 2",
   "language": "python",
   "name": "python2"
  },
  "language_info": {
   "codemirror_mode": {
    "name": "ipython",
    "version": 2
   },
   "file_extension": ".py",
   "mimetype": "text/x-python",
   "name": "python",
   "nbconvert_exporter": "python",
   "pygments_lexer": "ipython2",
   "version": "2.7.15"
  }
 },
 "nbformat": 4,
 "nbformat_minor": 2
}
