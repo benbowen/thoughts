{
 "cells": [
  {
   "cell_type": "code",
   "execution_count": 1,
   "metadata": {
    "collapsed": true
   },
   "outputs": [],
   "source": [
    "import pandas as pd"
   ]
  },
  {
   "cell_type": "code",
   "execution_count": 36,
   "metadata": {
    "collapsed": false
   },
   "outputs": [
    {
     "data": {
      "text/html": [
       "<div>\n",
       "<table border=\"1\" class=\"dataframe\">\n",
       "  <thead>\n",
       "    <tr style=\"text-align: right;\">\n",
       "      <th></th>\n",
       "      <th>pathway</th>\n",
       "      <th>ko</th>\n",
       "    </tr>\n",
       "  </thead>\n",
       "  <tbody>\n",
       "    <tr>\n",
       "      <th>0</th>\n",
       "      <td>path:map00010</td>\n",
       "      <td>ko:K00001</td>\n",
       "    </tr>\n",
       "    <tr>\n",
       "      <th>2</th>\n",
       "      <td>path:map00010</td>\n",
       "      <td>ko:K00002</td>\n",
       "    </tr>\n",
       "    <tr>\n",
       "      <th>4</th>\n",
       "      <td>path:map00010</td>\n",
       "      <td>ko:K00016</td>\n",
       "    </tr>\n",
       "    <tr>\n",
       "      <th>6</th>\n",
       "      <td>path:map00010</td>\n",
       "      <td>ko:K00114</td>\n",
       "    </tr>\n",
       "    <tr>\n",
       "      <th>8</th>\n",
       "      <td>path:map00010</td>\n",
       "      <td>ko:K00121</td>\n",
       "    </tr>\n",
       "  </tbody>\n",
       "</table>\n",
       "</div>"
      ],
      "text/plain": [
       "         pathway         ko\n",
       "0  path:map00010  ko:K00001\n",
       "2  path:map00010  ko:K00002\n",
       "4  path:map00010  ko:K00016\n",
       "6  path:map00010  ko:K00114\n",
       "8  path:map00010  ko:K00121"
      ]
     },
     "execution_count": 36,
     "metadata": {},
     "output_type": "execute_result"
    }
   ],
   "source": [
    "df_pathway_ko = pd.read_csv('http://rest.kegg.jp/link/ko/pathway',sep = '\\t',names = ['pathway','ko'])\n",
    "df_pathway_ko = df_pathway_ko[df_pathway_ko.pathway.str.contains('map')]\n",
    "df_pathway_ko.head()"
   ]
  },
  {
   "cell_type": "code",
   "execution_count": null,
   "metadata": {
    "collapsed": true
   },
   "outputs": [],
   "source": [
    "# get xml of pathway information\n",
    "# http://rest.kegg.jp/get/ko00010/kgml"
   ]
  },
  {
   "cell_type": "code",
   "execution_count": 37,
   "metadata": {
    "collapsed": false
   },
   "outputs": [
    {
     "data": {
      "text/html": [
       "<div>\n",
       "<table border=\"1\" class=\"dataframe\">\n",
       "  <thead>\n",
       "    <tr style=\"text-align: right;\">\n",
       "      <th></th>\n",
       "      <th>pathway</th>\n",
       "      <th>compound</th>\n",
       "    </tr>\n",
       "  </thead>\n",
       "  <tbody>\n",
       "    <tr>\n",
       "      <th>0</th>\n",
       "      <td>path:map00010</td>\n",
       "      <td>cpd:C00022</td>\n",
       "    </tr>\n",
       "    <tr>\n",
       "      <th>1</th>\n",
       "      <td>path:map00010</td>\n",
       "      <td>cpd:C00024</td>\n",
       "    </tr>\n",
       "    <tr>\n",
       "      <th>2</th>\n",
       "      <td>path:map00010</td>\n",
       "      <td>cpd:C00031</td>\n",
       "    </tr>\n",
       "    <tr>\n",
       "      <th>3</th>\n",
       "      <td>path:map00010</td>\n",
       "      <td>cpd:C00033</td>\n",
       "    </tr>\n",
       "    <tr>\n",
       "      <th>4</th>\n",
       "      <td>path:map00010</td>\n",
       "      <td>cpd:C00036</td>\n",
       "    </tr>\n",
       "  </tbody>\n",
       "</table>\n",
       "</div>"
      ],
      "text/plain": [
       "         pathway    compound\n",
       "0  path:map00010  cpd:C00022\n",
       "1  path:map00010  cpd:C00024\n",
       "2  path:map00010  cpd:C00031\n",
       "3  path:map00010  cpd:C00033\n",
       "4  path:map00010  cpd:C00036"
      ]
     },
     "execution_count": 37,
     "metadata": {},
     "output_type": "execute_result"
    }
   ],
   "source": [
    "df_pathway_cpd = pd.read_csv('http://rest.kegg.jp/link/cpd/pathway',sep = '\\t', names = ['pathway','compound'])\n",
    "df_pathway_cpd = df_pathway_cpd[df_pathway_cpd.pathway.str.contains('map')]\n",
    "\n",
    "df_pathway_cpd.head()"
   ]
  },
  {
   "cell_type": "code",
   "execution_count": 43,
   "metadata": {
    "collapsed": false
   },
   "outputs": [],
   "source": [
    "u_path_ko = set(df_pathway_ko.pathway.unique())\n",
    "u_path_cpd = set(df_pathway_cpd.pathway.unique())\n",
    "u_path = list(u_path_ko & u_path_cpd)"
   ]
  },
  {
   "cell_type": "code",
   "execution_count": 45,
   "metadata": {
    "collapsed": false
   },
   "outputs": [
    {
     "data": {
      "text/plain": [
       "342"
      ]
     },
     "execution_count": 45,
     "metadata": {},
     "output_type": "execute_result"
    }
   ],
   "source": [
    "len(u_path)"
   ]
  },
  {
   "cell_type": "code",
   "execution_count": null,
   "metadata": {
    "collapsed": false,
    "scrolled": false
   },
   "outputs": [],
   "source": [
    "import requests\n",
    "pathway_text = []\n",
    "for p in u_path:\n",
    "    r = requests.get('http://rest.kegg.jp/get/%s'%p.split(':')[1])\n",
    "    pathway_text.append(r.text)"
   ]
  },
  {
   "cell_type": "code",
   "execution_count": 55,
   "metadata": {
    "collapsed": false
   },
   "outputs": [
    {
     "data": {
      "text/html": [
       "<div>\n",
       "<table border=\"1\" class=\"dataframe\">\n",
       "  <thead>\n",
       "    <tr style=\"text-align: right;\">\n",
       "      <th></th>\n",
       "      <th>pathway</th>\n",
       "      <th>name</th>\n",
       "      <th>description</th>\n",
       "    </tr>\n",
       "  </thead>\n",
       "  <tbody>\n",
       "    <tr>\n",
       "      <th>0</th>\n",
       "      <td>path:map04919</td>\n",
       "      <td>Thyroid hormone signaling pathway</td>\n",
       "      <td>The thyroid hormones (THs) are important regul...</td>\n",
       "    </tr>\n",
       "    <tr>\n",
       "      <th>1</th>\n",
       "      <td>path:map00051</td>\n",
       "      <td>Fructose and mannose metabolism</td>\n",
       "      <td>Metabolism; Carbohydrate metabolism</td>\n",
       "    </tr>\n",
       "    <tr>\n",
       "      <th>2</th>\n",
       "      <td>path:map05146</td>\n",
       "      <td>Amoebiasis</td>\n",
       "      <td>Entamoeba histolytica, an extracellular protoz...</td>\n",
       "    </tr>\n",
       "    <tr>\n",
       "      <th>3</th>\n",
       "      <td>path:map04921</td>\n",
       "      <td>Oxytocin signaling pathway</td>\n",
       "      <td>Oxytocin (OT) is a nonapeptide synthesized by ...</td>\n",
       "    </tr>\n",
       "    <tr>\n",
       "      <th>4</th>\n",
       "      <td>path:map04720</td>\n",
       "      <td>Long-term potentiation</td>\n",
       "      <td>Hippocampal long-term potentiation (LTP), a lo...</td>\n",
       "    </tr>\n",
       "  </tbody>\n",
       "</table>\n",
       "</div>"
      ],
      "text/plain": [
       "         pathway                               name  \\\n",
       "0  path:map04919  Thyroid hormone signaling pathway   \n",
       "1  path:map00051    Fructose and mannose metabolism   \n",
       "2  path:map05146                         Amoebiasis   \n",
       "3  path:map04921         Oxytocin signaling pathway   \n",
       "4  path:map04720             Long-term potentiation   \n",
       "\n",
       "                                         description  \n",
       "0  The thyroid hormones (THs) are important regul...  \n",
       "1                Metabolism; Carbohydrate metabolism  \n",
       "2  Entamoeba histolytica, an extracellular protoz...  \n",
       "3  Oxytocin (OT) is a nonapeptide synthesized by ...  \n",
       "4  Hippocampal long-term potentiation (LTP), a lo...  "
      ]
     },
     "execution_count": 55,
     "metadata": {},
     "output_type": "execute_result"
    }
   ],
   "source": [
    "df_pathway_annotation = pd.DataFrame()\n",
    "for i,p in enumerate(u_path):\n",
    "    df_pathway_annotation.loc[i,'pathway'] = p\n",
    "    pathway_info = pathway_text[i].split('\\n')\n",
    "    df_pathway_annotation.loc[i,'name'] = [f.strip() for f in pathway_info[1].split(' ',1)][1]\n",
    "    df_pathway_annotation.loc[i,'description'] = [f.strip() for f in pathway_info[2].split(' ',1)][1]\n",
    "df_pathway_annotation.head()"
   ]
  },
  {
   "cell_type": "code",
   "execution_count": 57,
   "metadata": {
    "collapsed": false
   },
   "outputs": [
    {
     "data": {
      "text/html": [
       "<div>\n",
       "<table border=\"1\" class=\"dataframe\">\n",
       "  <thead>\n",
       "    <tr style=\"text-align: right;\">\n",
       "      <th></th>\n",
       "      <th>pathway</th>\n",
       "      <th>ko</th>\n",
       "      <th>name</th>\n",
       "      <th>description</th>\n",
       "    </tr>\n",
       "  </thead>\n",
       "  <tbody>\n",
       "    <tr>\n",
       "      <th>0</th>\n",
       "      <td>path:map00010</td>\n",
       "      <td>ko:K00001</td>\n",
       "      <td>Glycolysis / Gluconeogenesis</td>\n",
       "      <td>Glycolysis is the process of converting glucos...</td>\n",
       "    </tr>\n",
       "    <tr>\n",
       "      <th>1</th>\n",
       "      <td>path:map00010</td>\n",
       "      <td>ko:K00002</td>\n",
       "      <td>Glycolysis / Gluconeogenesis</td>\n",
       "      <td>Glycolysis is the process of converting glucos...</td>\n",
       "    </tr>\n",
       "    <tr>\n",
       "      <th>2</th>\n",
       "      <td>path:map00010</td>\n",
       "      <td>ko:K00016</td>\n",
       "      <td>Glycolysis / Gluconeogenesis</td>\n",
       "      <td>Glycolysis is the process of converting glucos...</td>\n",
       "    </tr>\n",
       "    <tr>\n",
       "      <th>3</th>\n",
       "      <td>path:map00010</td>\n",
       "      <td>ko:K00114</td>\n",
       "      <td>Glycolysis / Gluconeogenesis</td>\n",
       "      <td>Glycolysis is the process of converting glucos...</td>\n",
       "    </tr>\n",
       "    <tr>\n",
       "      <th>4</th>\n",
       "      <td>path:map00010</td>\n",
       "      <td>ko:K00121</td>\n",
       "      <td>Glycolysis / Gluconeogenesis</td>\n",
       "      <td>Glycolysis is the process of converting glucos...</td>\n",
       "    </tr>\n",
       "  </tbody>\n",
       "</table>\n",
       "</div>"
      ],
      "text/plain": [
       "         pathway         ko                          name  \\\n",
       "0  path:map00010  ko:K00001  Glycolysis / Gluconeogenesis   \n",
       "1  path:map00010  ko:K00002  Glycolysis / Gluconeogenesis   \n",
       "2  path:map00010  ko:K00016  Glycolysis / Gluconeogenesis   \n",
       "3  path:map00010  ko:K00114  Glycolysis / Gluconeogenesis   \n",
       "4  path:map00010  ko:K00121  Glycolysis / Gluconeogenesis   \n",
       "\n",
       "                                         description  \n",
       "0  Glycolysis is the process of converting glucos...  \n",
       "1  Glycolysis is the process of converting glucos...  \n",
       "2  Glycolysis is the process of converting glucos...  \n",
       "3  Glycolysis is the process of converting glucos...  \n",
       "4  Glycolysis is the process of converting glucos...  "
      ]
     },
     "execution_count": 57,
     "metadata": {},
     "output_type": "execute_result"
    }
   ],
   "source": [
    "df = pd.merge(df_pathway_ko,df_pathway_annotation,on='pathway')\n",
    "df.to_csv('pathway_ko_annotated_table.tab',sep = '\\t')\n",
    "df.head()"
   ]
  },
  {
   "cell_type": "code",
   "execution_count": 58,
   "metadata": {
    "collapsed": false
   },
   "outputs": [
    {
     "data": {
      "text/html": [
       "<div>\n",
       "<table border=\"1\" class=\"dataframe\">\n",
       "  <thead>\n",
       "    <tr style=\"text-align: right;\">\n",
       "      <th></th>\n",
       "      <th>pathway</th>\n",
       "      <th>compound</th>\n",
       "      <th>name</th>\n",
       "      <th>description</th>\n",
       "    </tr>\n",
       "  </thead>\n",
       "  <tbody>\n",
       "    <tr>\n",
       "      <th>0</th>\n",
       "      <td>path:map00010</td>\n",
       "      <td>cpd:C00022</td>\n",
       "      <td>Glycolysis / Gluconeogenesis</td>\n",
       "      <td>Glycolysis is the process of converting glucos...</td>\n",
       "    </tr>\n",
       "    <tr>\n",
       "      <th>1</th>\n",
       "      <td>path:map00010</td>\n",
       "      <td>cpd:C00024</td>\n",
       "      <td>Glycolysis / Gluconeogenesis</td>\n",
       "      <td>Glycolysis is the process of converting glucos...</td>\n",
       "    </tr>\n",
       "    <tr>\n",
       "      <th>2</th>\n",
       "      <td>path:map00010</td>\n",
       "      <td>cpd:C00031</td>\n",
       "      <td>Glycolysis / Gluconeogenesis</td>\n",
       "      <td>Glycolysis is the process of converting glucos...</td>\n",
       "    </tr>\n",
       "    <tr>\n",
       "      <th>3</th>\n",
       "      <td>path:map00010</td>\n",
       "      <td>cpd:C00033</td>\n",
       "      <td>Glycolysis / Gluconeogenesis</td>\n",
       "      <td>Glycolysis is the process of converting glucos...</td>\n",
       "    </tr>\n",
       "    <tr>\n",
       "      <th>4</th>\n",
       "      <td>path:map00010</td>\n",
       "      <td>cpd:C00036</td>\n",
       "      <td>Glycolysis / Gluconeogenesis</td>\n",
       "      <td>Glycolysis is the process of converting glucos...</td>\n",
       "    </tr>\n",
       "  </tbody>\n",
       "</table>\n",
       "</div>"
      ],
      "text/plain": [
       "         pathway    compound                          name  \\\n",
       "0  path:map00010  cpd:C00022  Glycolysis / Gluconeogenesis   \n",
       "1  path:map00010  cpd:C00024  Glycolysis / Gluconeogenesis   \n",
       "2  path:map00010  cpd:C00031  Glycolysis / Gluconeogenesis   \n",
       "3  path:map00010  cpd:C00033  Glycolysis / Gluconeogenesis   \n",
       "4  path:map00010  cpd:C00036  Glycolysis / Gluconeogenesis   \n",
       "\n",
       "                                         description  \n",
       "0  Glycolysis is the process of converting glucos...  \n",
       "1  Glycolysis is the process of converting glucos...  \n",
       "2  Glycolysis is the process of converting glucos...  \n",
       "3  Glycolysis is the process of converting glucos...  \n",
       "4  Glycolysis is the process of converting glucos...  "
      ]
     },
     "execution_count": 58,
     "metadata": {},
     "output_type": "execute_result"
    }
   ],
   "source": [
    "df = pd.merge(df_pathway_cpd,df_pathway_annotation,on='pathway')\n",
    "df.to_csv('pathway_cpd_annotated_table.tab',sep = '\\t')\n",
    "df.head()"
   ]
  },
  {
   "cell_type": "code",
   "execution_count": null,
   "metadata": {
    "collapsed": true
   },
   "outputs": [],
   "source": []
  }
 ],
 "metadata": {
  "kernelspec": {
   "display_name": "Python 3",
   "language": "python",
   "name": "python3"
  },
  "language_info": {
   "codemirror_mode": {
    "name": "ipython",
    "version": 3
   },
   "file_extension": ".py",
   "mimetype": "text/x-python",
   "name": "python",
   "nbconvert_exporter": "python",
   "pygments_lexer": "ipython3",
   "version": "3.5.1"
  }
 },
 "nbformat": 4,
 "nbformat_minor": 0
}
