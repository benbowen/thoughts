{
 "cells": [
  {
   "cell_type": "code",
   "execution_count": 5,
   "metadata": {
    "collapsed": false
   },
   "outputs": [
    {
     "name": "stdout",
     "output_type": "stream",
     "text": [
      "{u'status': u'FORBIDDEN', u'output': u'', u'login_url': u'/newt/home/login/', u'error': u'Permission Denied.'}\n"
     ]
    }
   ],
   "source": [
    "import urllib, json\n",
    "url='https://newt.nersc.gov/newt/account/group/m1541/users'\n",
    "response = urllib.urlopen(url)\n",
    "data = json.loads(response.read())\n",
    "print data\n",
    "\n"
   ]
  },
  {
   "cell_type": "code",
   "execution_count": 4,
   "metadata": {
    "collapsed": false
   },
   "outputs": [
    {
     "name": "stdout",
     "output_type": "stream",
     "text": [
      "········\n",
      "{\"username\": null, \"session_lifetime\": 0, \"auth\": false, \"newt_sessionid\": null}\n"
     ]
    }
   ],
   "source": [
    "\n",
    "import requests, json\n",
    "import sys\n",
    "import getpass\n",
    "# sys.path.append( '/Users/bpb/Data/programming/MetaboliteAtlas/github/metatlas/' )\n",
    "# import metatlas\n",
    "client = requests.Session()\n",
    "# client = metatlas.authenticateUser(client,'')\n",
    "# https://newt.nersc.gov/newt/login/\n",
    "password = getpass.getpass()\n",
    "authURL = 'https://newt.nersc.gov/newt/login/'\n",
    "# Retrieve the CSRF token first\n",
    "# client.get(authURL) # sets cookie\n",
    "# csrftoken = client.cookies['csrftoken']\n"
   ]
  },
  {
   "cell_type": "code",
   "execution_count": 15,
   "metadata": {
    "collapsed": false
   },
   "outputs": [
    {
     "name": "stdout",
     "output_type": "stream",
     "text": [
      "{\"username\": \"bpb\", \"session_lifetime\": 43199, \"auth\": true, \"newt_sessionid\": \"26702e53319dedd9fa72e29ef2fac41a\"}\n"
     ]
    }
   ],
   "source": [
    "login_data = dict(username='bpb', password=password)#, csrfmiddlewaretoken=csrftoken, next='/')\n",
    "r = client.post(authURL, data=login_data)#, headers=dict(Referer=authURL))\n",
    "print r.text"
   ]
  },
  {
   "cell_type": "code",
   "execution_count": 20,
   "metadata": {
    "collapsed": false
   },
   "outputs": [],
   "source": [
    "r = client.get(url)#,data=login_data)\n",
    "users = r.json()"
   ]
  },
  {
   "cell_type": "code",
   "execution_count": 25,
   "metadata": {
    "collapsed": false
   },
   "outputs": [
    {
     "name": "stdout",
     "output_type": "stream",
     "text": [
      "acato\n",
      "agreiner\n",
      "aharry\n",
      "alubbe\n",
      "aparkin\n",
      "autospec\n",
      "bazan\n",
      "bindesh\n",
      "bpb\n",
      "bshank\n",
      "caj\n",
      "camp\n",
      "cdbianch\n",
      "curt\n",
      "ddalisay\n",
      "defelice\n",
      "desb\n",
      "dtzk\n",
      "earikawa\n",
      "ebauer\n",
      "erbilgin\n",
      "ffuentes\n",
      "gbirarda\n",
      "herana\n",
      "hmgh\n",
      "jeads\n",
      "jeyk\n",
      "jffkm\n",
      "jgarst\n",
      "jiangao\n",
      "jiyan\n",
      "joshvh\n",
      "jpwilson\n",
      "jtouma\n",
      "katezh\n",
      "kbemis\n",
      "kblouie\n",
      "kdeng\n",
      "lchen2\n",
      "ledelste\n",
      "lewisn\n",
      "mdaniele\n",
      "msingh\n",
      "nazevedo\n",
      "oruebel\n",
      "oseiasjr\n",
      "pandeer\n",
      "pdorrest\n",
      "prasadpb\n",
      "raad0102\n",
      "rademach\n",
      "rbaran\n",
      "richkg\n",
      "rlau\n",
      "shreyas\n",
      "silvest\n",
      "smkosina\n",
      "tadunco\n",
      "talexand\n",
      "tderond\n",
      "thamerly\n",
      "thofeh\n",
      "tls\n",
      "tmvess\n",
      "tongjin\n",
      "tonywang\n",
      "trnorthe\n",
      "tsun\n",
      "twhitman\n",
      "vakos\n",
      "vjojic\n",
      "wes\n",
      "wlodette\n",
      "wmorrell\n",
      "xcheng82\n",
      "ycharn\n"
     ]
    }
   ],
   "source": [
    "for user in users['items']:\n",
    "    print user['uname']"
   ]
  },
  {
   "cell_type": "code",
   "execution_count": 23,
   "metadata": {
    "collapsed": false
   },
   "outputs": [
    {
     "ename": "AttributeError",
     "evalue": "'list' object has no attribute 'keys'",
     "output_type": "error",
     "traceback": [
      "\u001b[1;31m---------------------------------------------------------------------------\u001b[0m",
      "\u001b[1;31mAttributeError\u001b[0m                            Traceback (most recent call last)",
      "\u001b[1;32m<ipython-input-23-2432e9940b45>\u001b[0m in \u001b[0;36m<module>\u001b[1;34m()\u001b[0m\n\u001b[1;32m----> 1\u001b[1;33m \u001b[0musers\u001b[0m\u001b[1;33m[\u001b[0m\u001b[1;34m'items'\u001b[0m\u001b[1;33m]\u001b[0m\u001b[1;33m.\u001b[0m\u001b[0mkeys\u001b[0m\u001b[1;33m(\u001b[0m\u001b[1;33m)\u001b[0m\u001b[1;33m\u001b[0m\u001b[0m\n\u001b[0m",
      "\u001b[1;31mAttributeError\u001b[0m: 'list' object has no attribute 'keys'"
     ]
    }
   ],
   "source": [
    "users['items'].keys()"
   ]
  },
  {
   "cell_type": "code",
   "execution_count": null,
   "metadata": {
    "collapsed": true
   },
   "outputs": [],
   "source": []
  }
 ],
 "metadata": {
  "kernelspec": {
   "display_name": "Python 2",
   "language": "python",
   "name": "python2"
  },
  "language_info": {
   "codemirror_mode": {
    "name": "ipython",
    "version": 2
   },
   "file_extension": ".py",
   "mimetype": "text/x-python",
   "name": "python",
   "nbconvert_exporter": "python",
   "pygments_lexer": "ipython2",
   "version": "2.7.11"
  }
 },
 "nbformat": 4,
 "nbformat_minor": 0
}
