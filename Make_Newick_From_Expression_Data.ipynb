{
 "cells": [
  {
   "cell_type": "code",
   "execution_count": 5,
   "metadata": {
    "collapsed": true
   },
   "outputs": [],
   "source": [
    "import pandas as pd\n",
    "import time\n",
    "\n",
    "from scipy.cluster import hierarchy\n",
    "from scipy.spatial.distance import pdist as pdist"
   ]
  },
  {
   "cell_type": "code",
   "execution_count": 3,
   "metadata": {
    "collapsed": false
   },
   "outputs": [],
   "source": [
    "df = pd.read_csv('/global/homes/b/bpb/Downloads/20160414_MTX_avg_greater10.csv')"
   ]
  },
  {
   "cell_type": "code",
   "execution_count": 4,
   "metadata": {
    "collapsed": true
   },
   "outputs": [],
   "source": [
    "leaf_names = df.orf.tolist()"
   ]
  },
  {
   "cell_type": "code",
   "execution_count": 9,
   "metadata": {
    "collapsed": false
   },
   "outputs": [
    {
     "data": {
      "text/html": [
       "<div>\n",
       "<table border=\"1\" class=\"dataframe\">\n",
       "  <thead>\n",
       "    <tr style=\"text-align: right;\">\n",
       "      <th></th>\n",
       "      <th>orf</th>\n",
       "      <th>timepoint=11.5h-afterwetup_MTX</th>\n",
       "      <th>timepoint=15min-afterwetup_MTX</th>\n",
       "      <th>timepoint=18h-afterwetup_MTX</th>\n",
       "      <th>timepoint=1h-afterwetup_MTX</th>\n",
       "      <th>timepoint=2h-afterdrydown_MTX</th>\n",
       "      <th>timepoint=3d-afterdrydown_MTX</th>\n",
       "      <th>timepoint=3min-afterwetup_MTX</th>\n",
       "      <th>timepoint=72h-priortodrydown_MTX</th>\n",
       "      <th>timepoint=9h-afterwetup_MTX</th>\n",
       "    </tr>\n",
       "  </thead>\n",
       "  <tbody>\n",
       "    <tr>\n",
       "      <th>0</th>\n",
       "      <td>k101_188_2_2</td>\n",
       "      <td>2.8000</td>\n",
       "      <td>23.6545</td>\n",
       "      <td>2.6425</td>\n",
       "      <td>9.322000</td>\n",
       "      <td>1.404667</td>\n",
       "      <td>1.2815</td>\n",
       "      <td>1.458333</td>\n",
       "      <td>1.964667</td>\n",
       "      <td>2.291667</td>\n",
       "    </tr>\n",
       "    <tr>\n",
       "      <th>1</th>\n",
       "      <td>k101_26631_689_5</td>\n",
       "      <td>1.8220</td>\n",
       "      <td>41.5085</td>\n",
       "      <td>3.0175</td>\n",
       "      <td>17.063000</td>\n",
       "      <td>4.698667</td>\n",
       "      <td>1.5315</td>\n",
       "      <td>1.037000</td>\n",
       "      <td>6.833333</td>\n",
       "      <td>1.062333</td>\n",
       "    </tr>\n",
       "    <tr>\n",
       "      <th>2</th>\n",
       "      <td>k101_38613_971_2</td>\n",
       "      <td>1.8645</td>\n",
       "      <td>6.8680</td>\n",
       "      <td>1.6635</td>\n",
       "      <td>12.746333</td>\n",
       "      <td>2.512000</td>\n",
       "      <td>1.1220</td>\n",
       "      <td>2.385000</td>\n",
       "      <td>1.391667</td>\n",
       "      <td>2.304000</td>\n",
       "    </tr>\n",
       "    <tr>\n",
       "      <th>3</th>\n",
       "      <td>k101_39069_982_2</td>\n",
       "      <td>4.0455</td>\n",
       "      <td>20.5485</td>\n",
       "      <td>2.6600</td>\n",
       "      <td>15.799667</td>\n",
       "      <td>1.147667</td>\n",
       "      <td>1.1205</td>\n",
       "      <td>1.874000</td>\n",
       "      <td>1.451333</td>\n",
       "      <td>2.169333</td>\n",
       "    </tr>\n",
       "    <tr>\n",
       "      <th>4</th>\n",
       "      <td>k101_44297_1105_1</td>\n",
       "      <td>4.5460</td>\n",
       "      <td>29.3305</td>\n",
       "      <td>4.9625</td>\n",
       "      <td>15.501333</td>\n",
       "      <td>5.520333</td>\n",
       "      <td>3.4760</td>\n",
       "      <td>6.236000</td>\n",
       "      <td>5.963333</td>\n",
       "      <td>5.056667</td>\n",
       "    </tr>\n",
       "  </tbody>\n",
       "</table>\n",
       "</div>"
      ],
      "text/plain": [
       "                 orf  timepoint=11.5h-afterwetup_MTX  \\\n",
       "0       k101_188_2_2                          2.8000   \n",
       "1   k101_26631_689_5                          1.8220   \n",
       "2   k101_38613_971_2                          1.8645   \n",
       "3   k101_39069_982_2                          4.0455   \n",
       "4  k101_44297_1105_1                          4.5460   \n",
       "\n",
       "   timepoint=15min-afterwetup_MTX  timepoint=18h-afterwetup_MTX  \\\n",
       "0                         23.6545                        2.6425   \n",
       "1                         41.5085                        3.0175   \n",
       "2                          6.8680                        1.6635   \n",
       "3                         20.5485                        2.6600   \n",
       "4                         29.3305                        4.9625   \n",
       "\n",
       "   timepoint=1h-afterwetup_MTX  timepoint=2h-afterdrydown_MTX  \\\n",
       "0                     9.322000                       1.404667   \n",
       "1                    17.063000                       4.698667   \n",
       "2                    12.746333                       2.512000   \n",
       "3                    15.799667                       1.147667   \n",
       "4                    15.501333                       5.520333   \n",
       "\n",
       "   timepoint=3d-afterdrydown_MTX  timepoint=3min-afterwetup_MTX  \\\n",
       "0                         1.2815                       1.458333   \n",
       "1                         1.5315                       1.037000   \n",
       "2                         1.1220                       2.385000   \n",
       "3                         1.1205                       1.874000   \n",
       "4                         3.4760                       6.236000   \n",
       "\n",
       "   timepoint=72h-priortodrydown_MTX  timepoint=9h-afterwetup_MTX  \n",
       "0                          1.964667                     2.291667  \n",
       "1                          6.833333                     1.062333  \n",
       "2                          1.391667                     2.304000  \n",
       "3                          1.451333                     2.169333  \n",
       "4                          5.963333                     5.056667  "
      ]
     },
     "execution_count": 9,
     "metadata": {},
     "output_type": "execute_result"
    }
   ],
   "source": [
    "df.head()"
   ]
  },
  {
   "cell_type": "code",
   "execution_count": 18,
   "metadata": {
    "collapsed": false
   },
   "outputs": [],
   "source": [
    "keys = df.keys()\n",
    "M = df.as_matrix(columns = keys[1:])"
   ]
  },
  {
   "cell_type": "code",
   "execution_count": 19,
   "metadata": {
    "collapsed": true
   },
   "outputs": [],
   "source": [
    "distance_matrix = pdist(M,'correlation')"
   ]
  },
  {
   "cell_type": "code",
   "execution_count": 20,
   "metadata": {
    "collapsed": false
   },
   "outputs": [
    {
     "name": "stdout",
     "output_type": "stream",
     "text": [
      "4.32454514503\n"
     ]
    }
   ],
   "source": [
    "\n",
    "\n",
    "t0 = time.time()\n",
    "Z = hierarchy.linkage(distance_matrix,method='average')\n",
    "\n",
    "print time.time() - t0\n"
   ]
  },
  {
   "cell_type": "code",
   "execution_count": 21,
   "metadata": {
    "collapsed": true
   },
   "outputs": [],
   "source": [
    "def getNewick(node, newick, parentdist, leaf_names):\n",
    "    if node.is_leaf():\n",
    "        return \"%s:%.5f%s\" % (leaf_names[node.id], parentdist - node.dist, newick)\n",
    "    else:\n",
    "        if len(newick) > 0:\n",
    "            newick = \"):%.5f%s\" % (parentdist - node.dist, newick)\n",
    "        else:\n",
    "            newick = \");\"\n",
    "        newick = getNewick(node.get_left(), newick, node.dist, leaf_names)\n",
    "        newick = getNewick(node.get_right(), \",%s\" % (newick), node.dist, leaf_names)\n",
    "        newick = \"(%s\" % (newick)\n",
    "        return newick"
   ]
  },
  {
   "cell_type": "code",
   "execution_count": 22,
   "metadata": {
    "collapsed": true
   },
   "outputs": [],
   "source": [
    "import sys\n",
    "sys.setrecursionlimit(2000) #whoa!\n",
    "tree = hierarchy.to_tree(Z,False)\n",
    "my_str = getNewick(tree, \"\", tree.dist, leaf_names)\n",
    "# print my_str\n",
    "with open('tls_output_tree.txt','w') as fid:\n",
    "    fid.write('%s'%my_str)"
   ]
  },
  {
   "cell_type": "code",
   "execution_count": null,
   "metadata": {
    "collapsed": true
   },
   "outputs": [],
   "source": []
  }
 ],
 "metadata": {
  "kernelspec": {
   "display_name": "Python 2",
   "language": "python",
   "name": "python2"
  },
  "language_info": {
   "codemirror_mode": {
    "name": "ipython",
    "version": 2
   },
   "file_extension": ".py",
   "mimetype": "text/x-python",
   "name": "python",
   "nbconvert_exporter": "python",
   "pygments_lexer": "ipython2",
   "version": "2.7.11"
  }
 },
 "nbformat": 4,
 "nbformat_minor": 0
}
